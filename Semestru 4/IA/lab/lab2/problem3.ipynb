{
 "cells": [
  {
   "cell_type": "code",
   "execution_count": 20,
   "outputs": [],
   "source": [
    "import re\n",
    "import nltk\n",
    "from nltk.corpus import wordnet\n",
    "import matplotlib.pyplot as plt\n",
    "import numpy as np"
   ],
   "metadata": {
    "collapsed": false,
    "ExecuteTime": {
     "end_time": "2025-03-09T13:25:00.378186400Z",
     "start_time": "2025-03-09T13:25:00.361406800Z"
    }
   },
   "id": "cb34f9db4e74995f"
  },
  {
   "cell_type": "code",
   "execution_count": 3,
   "outputs": [
    {
     "name": "stdout",
     "output_type": "stream",
     "text": [
      "Number of sentences:  10\n"
     ]
    }
   ],
   "source": [
    "text = \"\"\n",
    "with open('./texts.txt', mode='r', encoding='utf-8') as file:\n",
    "    text = file.read()\n",
    "\n",
    "punctuation_chars = r'[!?.]'\n",
    "sentences = re.split(punctuation_chars, text)\n",
    "\n",
    "print('Number of sentences: ', len([x for x in sentences if x.strip()]))\n"
   ],
   "metadata": {
    "collapsed": false,
    "ExecuteTime": {
     "end_time": "2025-03-09T13:17:43.175493200Z",
     "start_time": "2025-03-09T13:17:43.159413100Z"
    }
   },
   "id": "initial_id"
  },
  {
   "cell_type": "code",
   "execution_count": 5,
   "outputs": [
    {
     "name": "stdout",
     "output_type": "stream",
     "text": [
      "Number of words:  160\n",
      "Number of unique words:  97\n"
     ]
    }
   ],
   "source": [
    "new_text = text.replace('\\n', ' ')\n",
    "new_text = new_text.replace('.', ' ')\n",
    "new_text = new_text.replace(':', ' ')\n",
    "new_text = new_text.replace('?', ' ')\n",
    "new_text = new_text.replace('\\\"', ' ')\n",
    "new_text = new_text.replace('!', ' ')\n",
    "new_text = new_text.replace(',', ' ')\n",
    "new_text = new_text.replace('-', ' ')\n",
    "new_text = new_text.replace('”', ' ')\n",
    "\n",
    "unique_words = []\n",
    "for word in [x for x in new_text.split(' ') if x.strip()]:\n",
    "    if word not in unique_words:\n",
    "        unique_words += [word]\n",
    "        \n",
    "print('Number of words: ', len([x for x in new_text.split(' ') if x.strip()]))   \n",
    "print('Number of unique words: ', len(unique_words))\n"
   ],
   "metadata": {
    "collapsed": false,
    "ExecuteTime": {
     "end_time": "2025-03-09T13:17:46.998805700Z",
     "start_time": "2025-03-09T13:17:46.967027500Z"
    }
   },
   "id": "17ec1e42b39fd5e6"
  },
  {
   "cell_type": "code",
   "execution_count": 7,
   "outputs": [
    {
     "name": "stdout",
     "output_type": "stream",
     "text": [
      "Shortest word/words:  o, e\n",
      "Longest word/words:  Confiiiiiiiiiiiiiiiiiiiiiiiiiiiirm\n"
     ]
    }
   ],
   "source": [
    "shortest_words = [unique_words[0]]\n",
    "longest_words = [unique_words[0]]\n",
    "\n",
    "for word in [w for w in unique_words if all(not c.isdigit() for c in w)]:\n",
    "    if len(word) < len(shortest_words[0]):\n",
    "        shortest_words = [word]\n",
    "    if len(word) > len(longest_words[0]):\n",
    "        longest_words = [word]\n",
    "    if len(word) == len(shortest_words[0]) and word != shortest_words[0]:\n",
    "        shortest_words += [word]\n",
    "    if len(word) == len(longest_words[0]) and word != longest_words[0]:\n",
    "        longest_words += [word]\n",
    "\n",
    "print('Shortest word/words: ', \", \".join(shortest_words))\n",
    "print('Longest word/words: ', \", \".join(longest_words))\n",
    "        "
   ],
   "metadata": {
    "collapsed": false,
    "ExecuteTime": {
     "end_time": "2025-03-09T13:17:50.802939700Z",
     "start_time": "2025-03-09T13:17:50.738823300Z"
    }
   },
   "id": "9525887c60563b20"
  },
  {
   "cell_type": "code",
   "execution_count": 8,
   "outputs": [
    {
     "name": "stdout",
     "output_type": "stream",
     "text": [
      "Mesaj de informare: \n",
      "Cursul si laboratoarele de Inteligenta Artificiala vor fi o \n",
      "provocare pentru toti. Suntem convinsi ca veti realiza proiecte \n",
      "foarte interesante. Va incurajam sa adresati intrebari atunci \n",
      "cand ceva nu e clar, atat in mod live, cat si folosind platforma \n",
      "Teams, canalul ”general”. \n",
      "Daca ati citit pana aici, va rugam sa lasati un mesaj pe canalul \n",
      "general cu textul ”Confiiiiiiiiiiiiiiiiiiiiiiiiiiiirm ca am citit \n",
      "textul pentru problema 3 din lab2”. \n",
      "--\n",
      "Mesaj de informare generat de ChatGPT:\n",
      "Stimati cursanti,\n",
      "Suntem incantati sa va avem in echipa noastra pentru Cursul si \n",
      "laboratoarele de Inteligenta Artificiala. Aceasta experienta va \n",
      "fi o adevarata provocare, dar suntem convinsi ca veti realiza \n",
      "proiecte extrem de interesante.\n",
      "Va incurajam sa fiti activi si sa adresati intrebari atunci cand \n",
      "ceva nu este clar. Fie ca este vorba de o discutie in timp real \n",
      "sau prin intermediul platformei Teams, canalul ”general”, suntem \n",
      "aici sa va sprijinim.\n",
      "Succes si sa inceapa aventura AI!\n",
      "Cu consideratie, Echipa de Inteligenta Artificiala\n"
     ]
    }
   ],
   "source": [
    "text_without_special = text.replace('ș', 's')\n",
    "text_without_special = text_without_special.replace('ț', 't')\n",
    "text_without_special = text_without_special.replace('ă', 'a')\n",
    "text_without_special = text_without_special.replace('â', 'a')\n",
    "text_without_special = text_without_special.replace('î', 'i')\n",
    "text_without_special = text_without_special.replace('Ș', 'S')\n",
    "text_without_special = text_without_special.replace('Ț', 'T')\n",
    "text_without_special = text_without_special.replace('Ă', 'A')\n",
    "text_without_special = text_without_special.replace('Â', 'A')\n",
    "text_without_special = text_without_special.replace('Î', 'I')\n",
    "\n",
    "print(text_without_special)"
   ],
   "metadata": {
    "collapsed": false,
    "ExecuteTime": {
     "end_time": "2025-03-09T13:17:52.156305100Z",
     "start_time": "2025-03-09T13:17:52.107107300Z"
    }
   },
   "id": "d1a3937a40372662"
  },
  {
   "cell_type": "code",
   "execution_count": 9,
   "outputs": [
    {
     "name": "stdout",
     "output_type": "stream",
     "text": [
      "Synonym for Confiiiiiiiiiiiiiiiiiiiiiiiiiiiirm is/are: \n",
      "Synonym for Confirm is/are: substantiate, confirm, corroborate, sustain, support, reassert, affirm\n"
     ]
    }
   ],
   "source": [
    "for word in longest_words + ['Confirm']:\n",
    "    synonyms = set()\n",
    "    for s in wordnet.synsets(word):\n",
    "        for l in s.lemmas():\n",
    "            synonyms.add(l.name())\n",
    "    print(f'Synonym for {word} is/are: {\", \".join(synonyms)}')"
   ],
   "metadata": {
    "collapsed": false,
    "ExecuteTime": {
     "end_time": "2025-03-09T13:17:55.853114100Z",
     "start_time": "2025-03-09T13:17:55.775303600Z"
    }
   },
   "id": "8b0f06080fa5c261"
  },
  {
   "cell_type": "code",
   "execution_count": 21,
   "outputs": [
    {
     "data": {
      "text/plain": "<Figure size 1000x400 with 3 Axes>",
      "image/png": "[encoded data removed]"
     },
     "metadata": {},
     "output_type": "display_data"
    }
   ],
   "source": [
    "new_text = text.replace('\\n', ' ')\n",
    "new_text = new_text.replace(':', ' ')\n",
    "new_text = new_text.replace('\\\"', ' ')\n",
    "new_text = new_text.replace(',', ' ')\n",
    "new_text = new_text.replace('-', ' ')\n",
    "new_text = new_text.replace('”', ' ')\n",
    "\n",
    "word_count_per_sentence = [len(x) for x in new_text.split(' ') if len(x) > 0]\n",
    "\n",
    "minn = min(word_count_per_sentence)\n",
    "maxx = max(word_count_per_sentence)\n",
    "mean = np.mean(word_count_per_sentence)\n",
    "std = np.std(word_count_per_sentence)\n",
    "\n",
    "minmax_scaled_word_count_per_sentence = [(x - minn) / (maxx - minn) for x in word_count_per_sentence]\n",
    "znormalized_word_count_per_sentence = [(x - mean) / std for x in word_count_per_sentence]\n",
    "\n",
    "fig, (ax1, ax2, ax3) = plt.subplots(1, 3, figsize=(10, 4))\n",
    "ax1.hist(word_count_per_sentence, 20)\n",
    "ax1.set_title('Word count per sentence')\n",
    "ax2.hist(minmax_scaled_word_count_per_sentence, 20)\n",
    "ax2.set_title('MinMax scaled word count per sentence values')# \n",
    "ax3.hist(znormalized_word_count_per_sentence, 20)\n",
    "ax3.set_title('ZNormalized word count per sentence values')\n",
    "plt.show()"
   ],
   "metadata": {
    "collapsed": false,
    "ExecuteTime": {
     "end_time": "2025-03-09T13:26:43.534655500Z",
     "start_time": "2025-03-09T13:26:43.096271200Z"
    }
   },
   "id": "a85676b0bcc9daf4"
  }
 ],
 "metadata": {
  "kernelspec": {
   "display_name": "Python 3",
   "language": "python",
   "name": "python3"
  },
  "language_info": {
   "codemirror_mode": {
    "name": "ipython",
    "version": 2
   },
   "file_extension": ".py",
   "mimetype": "text/x-python",
   "name": "python",
   "nbconvert_exporter": "python",
   "pygments_lexer": "ipython2",
   "version": "2.7.6"
  }
 },
 "nbformat": 4,
 "nbformat_minor": 5
}
