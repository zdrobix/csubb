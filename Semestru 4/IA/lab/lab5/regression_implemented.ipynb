{
 "cells": [
  {
   "cell_type": "code",
   "execution_count": 32,
   "id": "initial_id",
   "metadata": {
    "collapsed": true,
    "ExecuteTime": {
     "end_time": "2025-04-09T17:48:44.120268400Z",
     "start_time": "2025-04-09T17:48:44.104539800Z"
    }
   },
   "outputs": [],
   "source": [
    "import pandas as pd\n",
    "from cmath import sqrt\n",
    "import numpy as np\n",
    "import matplotlib.pyplot as plt\n",
    "from sklearn.model_selection import train_test_split\n",
    "\n",
    "dataset_path = './data/v1_world-happiness-report-2017.csv'\n",
    "\n",
    "def read_dataset(path):\n",
    "    df = pd.read_csv(path)\n",
    "    return df"
   ]
  },
  {
   "cell_type": "code",
   "execution_count": 39,
   "outputs": [
    {
     "data": {
      "text/plain": "[[2.0, 5.0, -2.0], [-0.0, -4.0, 1.0], [-1.0, -2.0, 1.0]]"
     },
     "execution_count": 39,
     "metadata": {},
     "output_type": "execute_result"
    }
   ],
   "source": [
    "def get_transpose_matrix(matrix):\n",
    "    transpose = [[0] * len(matrix) for _ in range(len(matrix[0]))]\n",
    "    for i in range(len(matrix)):\n",
    "        for j in range(len(matrix[0])):\n",
    "            transpose[j][i] = matrix[i][j]\n",
    "    return transpose\n",
    "\n",
    "def get_determinant_matrix(matrix):\n",
    "    if len(matrix) == 2 and len(matrix[0]) == 2:\n",
    "        return matrix[0][0] * matrix[1][1] - matrix[0][1] * matrix[1][0]\n",
    "    \n",
    "    det = 0\n",
    "    for count in range(len(matrix)):\n",
    "        det += (((-1) ** count) * matrix[0][count] * \n",
    "                get_determinant_matrix(\n",
    "                    [x[:count] + x[count + 1:] for x in matrix[1:]])\n",
    "                )\n",
    "    \n",
    "    return det\n",
    "\n",
    "\n",
    "def get_inverse_matrix(matrix):\n",
    "    det = get_determinant_matrix(matrix)\n",
    "    if det == 0:\n",
    "        return None\n",
    "    if len(matrix) != len(matrix[0]):\n",
    "        return None\n",
    "    \n",
    "    if len(matrix) == 2:\n",
    "        return [\n",
    "            [matrix[1][1] / det, -1 * matrix[0][1] / det],\n",
    "            [-1 * matrix[1][0] / det, matrix[0][0] / det]\n",
    "        ]\n",
    "    \n",
    "    inverse = [[0] * len(matrix) for _ in range(len(matrix[0]))]\n",
    "    for row in range(len(matrix)):\n",
    "        for col in range(len(matrix)):\n",
    "            inverse[row][col] += (((-1) ** (row + col)) * \n",
    "                                  get_determinant_matrix(\n",
    "                                      [[matrix[i][j] for j in range(len(matrix)) if j != col]\n",
    "                                                    for i in range(len(matrix)) if i != row]\n",
    "                                    )\n",
    "                                  )\n",
    "    inverse = get_transpose_matrix(inverse)\n",
    "    return [\n",
    "        [y / det for y in row] for row in inverse\n",
    "    ]"
   ],
   "metadata": {
    "collapsed": false,
    "ExecuteTime": {
     "end_time": "2025-04-09T18:00:18.474915900Z",
     "start_time": "2025-04-09T18:00:18.415207500Z"
    }
   },
   "id": "325e1b1829dc8528"
  },
  {
   "cell_type": "code",
   "execution_count": 33,
   "outputs": [],
   "source": [
    "def get_linear_regression(dataset, input_cols, output_col):\n",
    "    dataset = dataset.dropna(subset=input_cols)\n",
    "    \n",
    "    x_train, x_test, y_train, y_test = train_test_split(dataset[input_cols], dataset[output_col], test_size= 0.35)\n",
    "    \n",
    "    if len(input_cols) == 1:\n",
    "        x = x_train[input_cols[0]].values \n",
    "        y = y_train.values   \n",
    "        \n",
    "        w1 = (len(x) * sum(x * y) - sum(x) * sum(y)) / (len(x) * sum(x ** 2) - sum(x) ** 2)\n",
    "        w0 = (sum(y) - w1 * sum(x)) / len(x)\n",
    "        \n",
    "        predictions = [w0 + w1 * value for value in x_test[input_cols[0]].values]\n",
    "        print(f\"Mean squared error: {sum([(a - p) ** 2 for a, p in zip(y_test, predictions)]) / len(predictions)}\")\n",
    "        print(f\"Root mean squared error: {sqrt(sum([(a - p) ** 2 for a, p in zip(y_test, predictions)]) / len(predictions))}\")\n",
    "        \n",
    "        plt.plot(x_test, y_test, 'yo', label = 'Actual')\n",
    "        plt.plot(x_test, predictions, 'g^', label = \"Predicted\")\n",
    "        plt.title('computed validation and real validation data')\n",
    "        plt.xlabel(\", \".join(input_cols))\n",
    "        plt.ylabel(output_col)\n",
    "        plt.legend()\n",
    "        plt.show()\n",
    "        \n",
    "        return w0, w1\n",
    "    \n",
    "    ww = \n",
    "    \n",
    "    "
   ],
   "metadata": {
    "collapsed": false,
    "ExecuteTime": {
     "end_time": "2025-04-09T17:48:52.410734100Z",
     "start_time": "2025-04-09T17:48:52.405248400Z"
    }
   },
   "id": "4c6f76a4d1655cb"
  },
  {
   "cell_type": "markdown",
   "source": [
    "# Predict happiness based on GDP per Capita"
   ],
   "metadata": {
    "collapsed": false
   },
   "id": "1173b22afebae777"
  },
  {
   "cell_type": "code",
   "execution_count": 18,
   "outputs": [
    {
     "name": "stdout",
     "output_type": "stream",
     "text": [
      "Error: 0.4135696901991254\n"
     ]
    },
    {
     "data": {
      "text/plain": "<Figure size 640x480 with 1 Axes>",
      "image/png": "[encoded data removed]"
     },
     "metadata": {},
     "output_type": "display_data"
    }
   ],
   "source": [
    "ww0, ww1 = get_linear_regression(read_dataset(dataset_path), ['Economy..GDP.per.Capita.'], 'Happiness.Score')\n",
    "\n",
    "def run_model():\n",
    "    gdp_capita = int(input(\"Enter GDP per Capita: \"))    \n",
    "    print(f\"Prediction (GPD per Capita = {gdp_capita}):\")\n",
    "    print(f\"Happiness = {ww0 + ww1 * gdp_capita}\")\n"
   ],
   "metadata": {
    "collapsed": false,
    "ExecuteTime": {
     "end_time": "2025-04-09T15:56:24.313490900Z",
     "start_time": "2025-04-09T15:56:23.937872200Z"
    }
   },
   "id": "e07de95d41efa24a"
  }
 ],
 "metadata": {
  "kernelspec": {
   "display_name": "Python 3",
   "language": "python",
   "name": "python3"
  },
  "language_info": {
   "codemirror_mode": {
    "name": "ipython",
    "version": 2
   },
   "file_extension": ".py",
   "mimetype": "text/x-python",
   "name": "python",
   "nbconvert_exporter": "python",
   "pygments_lexer": "ipython2",
   "version": "2.7.6"
  }
 },
 "nbformat": 4,
 "nbformat_minor": 5
}
