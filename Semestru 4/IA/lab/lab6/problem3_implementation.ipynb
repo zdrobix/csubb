{
 "cells": [
  {
   "cell_type": "code",
   "execution_count": 2,
   "id": "initial_id",
   "metadata": {
    "collapsed": true,
    "ExecuteTime": {
     "end_time": "2025-05-13T08:32:29.026504Z",
     "start_time": "2025-05-13T08:32:26.889533700Z"
    }
   },
   "outputs": [],
   "source": [
    "import numpy as np\n",
    "import matplotlib.pyplot as plt\n",
    "import pandas as pd\n",
    "from ucimlrepo import fetch_ucirepo \n",
    "\n"
   ]
  },
  {
   "cell_type": "markdown",
   "source": [
    "# Fetching data"
   ],
   "metadata": {
    "collapsed": false
   },
   "id": "379d054b7b9c99bf"
  },
  {
   "cell_type": "code",
   "execution_count": null,
   "outputs": [],
   "source": [
    "iris = fetch_ucirepo(id=53) \n",
    "  \n",
    "X = iris.data.features \n",
    "y = iris.data.targets \n"
   ],
   "metadata": {
    "collapsed": false,
    "is_executing": true,
    "ExecuteTime": {
     "start_time": "2025-05-13T08:32:31.561410100Z"
    }
   },
   "id": "c5da37e21c450b83"
  },
  {
   "cell_type": "markdown",
   "source": [
    "# Utils, plotting"
   ],
   "metadata": {
    "collapsed": false
   },
   "id": "467b1bc148de013f"
  },
  {
   "cell_type": "code",
   "execution_count": 23,
   "outputs": [],
   "source": [
    "def read_dataset(path):\n",
    "    df = pd.read_csv(path)\n",
    "    return df\n",
    "\n",
    "def plot(title, x1, y1, label1 = None, title1 = None, \n",
    "         x2 = None, \n",
    "         y2 = None, \n",
    "         x3 = None,\n",
    "         y3 = None,\n",
    "         label2 = None,\n",
    "         label3 = None,\n",
    "         title2 = None,\n",
    "         mode1 = 'yo',\n",
    "         mode2 = 'g^',\n",
    "        mode3 = 'r+'):\n",
    "    \n",
    "    plt.plot(x1, y1, mode1, label = label1 if label1 is not None else '')\n",
    "    if x2 is not None and y2 is not None:\n",
    "        plt.plot(x2, y2, mode2, label = label2 if label2 is not None else '')\n",
    "    if x3 is not None and y2 is not None:\n",
    "        plt.plot(x3, y3, mode3, label = label3 if label3 is not None else '')\n",
    "          \n",
    "    plt.title(title)\n",
    "    plt.xlabel(title1 if title1 is not None else '')\n",
    "    plt.ylabel(title2 if title2 is not None else '')\n",
    "    \n",
    "    plt.legend()\n",
    "    plt.show()\n",
    "    \n",
    "def train_test_split(set1, set2, test_size, random_state=21):\n",
    "    np.random.seed(random_state)\n",
    "    indices = np.arange(len(set1))\n",
    "    np.random.shuffle(indices)\n",
    "    \n",
    "    test_indices = indices[:int(test_size * len(set1))]\n",
    "    train_indices = indices[int(test_size * len(set1)):]\n",
    "    \n",
    "    # return set1[train_indices], set1[test_indices], set2[train_indices], set2[test_indices]\n",
    "    return set1.iloc[train_indices], set1.iloc[test_indices], set2.iloc[train_indices], set2.iloc[test_indices]\n",
    "\n",
    "    \n",
    "def normalisation(x_train__, x_test__):\n",
    "    if isinstance(x_train__, pd.DataFrame):\n",
    "        x_train__ = x_train__.values.tolist()\n",
    "    if isinstance(x_test__, pd.DataFrame):\n",
    "        x_test__ = x_test__.values.tolist()\n",
    "    if isinstance(x_train__[0], float) or len(x_train__[0]) == 1:\n",
    "        xmin = min(x_train__)\n",
    "        xmax = max(x_train__)\n",
    "        return ([(value - xmin) / (xmax - xmin) for value in x_train__],\n",
    "                [(value - xmin) / (xmax - xmin) for value in x_test__], [xmin, xmax])\n",
    "    \n",
    "    if len(x_train__[0]) == 2:\n",
    "        x_train__1 = [x[0] for x in x_train__]\n",
    "        x_train__2 = [x[1] for x in x_train__]\n",
    "        x_test__1 = [x[0] for x in x_test__]\n",
    "        x_test__2 = [x[1] for x in x_test__]\n",
    "        \n",
    "        x_train_norm1, x_test_norm1, min_max1 = normalisation(x_train__1, x_test__1)\n",
    "        x_train_norm2, x_test_norm2, min_max2 = normalisation(x_train__2, x_test__2)\n",
    "        return list(zip(x_train_norm1, x_train_norm2)), list(zip(x_test_norm1, x_test_norm2)), [min_max1, min_max2]"
   ],
   "metadata": {
    "collapsed": false,
    "ExecuteTime": {
     "end_time": "2025-05-13T08:26:14.187569100Z",
     "start_time": "2025-05-13T08:26:14.108289100Z"
    }
   },
   "id": "d854ff8eea54235"
  },
  {
   "cell_type": "markdown",
   "source": [
    "# Logistic Regressor - BCE loss function"
   ],
   "metadata": {
    "collapsed": false
   },
   "id": "3e70340120001b5f"
  },
  {
   "cell_type": "code",
   "execution_count": 19,
   "outputs": [],
   "source": [
    "class LogisticRegression:\n",
    "    def __init__(self, max_iter=100, rate=0.01, decision=0.5):\n",
    "        self.coef = None\n",
    "        self.intercept = 0\n",
    "        self.max_iter = max_iter\n",
    "        self.rate = rate\n",
    "        self.decision = decision\n",
    "\n",
    "    def sigmoid(self, z):\n",
    "        return 1 / (1 + np.exp(-z))\n",
    "\n",
    "    def predict_proba(self, x):\n",
    "        return self.sigmoid(np.dot(x, self.coef) + self.intercept)\n",
    "\n",
    "    def fit(self, x, y_):\n",
    "        x = np.array(x)\n",
    "        y_ = np.array(y_)\n",
    "        n_samples, n_features = x.shape\n",
    "        self.coef = np.random.randn(n_features)\n",
    "        self.intercept = 0\n",
    "\n",
    "        for _ in range(self.max_iter):\n",
    "            linear_model = np.dot(x, self.coef) + self.intercept\n",
    "            y_pred = self.sigmoid(linear_model)\n",
    "            error = y_pred - y_\n",
    "            grad_w = np.dot(x.T, error) / n_samples\n",
    "            grad_b = np.mean(error)\n",
    "            self.coef -= self.rate * grad_w\n",
    "            self.intercept -= self.rate * grad_b\n",
    "\n",
    "    def predict(self, x):\n",
    "        x = np.array(x)\n",
    "        probs = self.predict_proba(x)\n",
    "        return [p >= self.decision for p in probs]"
   ],
   "metadata": {
    "collapsed": false,
    "ExecuteTime": {
     "end_time": "2025-05-13T08:14:00.929917400Z",
     "start_time": "2025-05-13T08:14:00.890614700Z"
    }
   },
   "id": "f48f4a8d3d64f730"
  },
  {
   "cell_type": "markdown",
   "source": [
    "# Data"
   ],
   "metadata": {
    "collapsed": false
   },
   "id": "2435ad96c8c94f2c"
  },
  {
   "cell_type": "code",
   "execution_count": 26,
   "outputs": [
    {
     "data": {
      "text/plain": "<Figure size 640x480 with 1 Axes>",
      "image/png": "[encoded data removed]"
     },
     "metadata": {},
     "output_type": "display_data"
    }
   ],
   "source": [
    "area_sepal = [ (a * b) for (a, b) in zip(X['sepal length'], X['sepal width'])]\n",
    "area_petal = [ (a * b) for (a, b) in zip(X['petal length'], X['petal width'])]\n",
    "\n",
    "area_sepal = list(area_sepal)\n",
    "area_petal = list(area_petal)\n",
    "y = y.values\n",
    "\n",
    "\n",
    "plot(title = 'Iris virginica - setosa - versicolor',\n",
    "     x1=[area_sepal[i] for i in range(len(y)) if y[i] == 'Iris-virginica'], \n",
    "     y1=[area_petal[i] for i in range(len(y)) if y[i] == 'Iris-virginica'], \n",
    "     label1='virginica',\n",
    "     x2=[area_sepal[i] for i in range(len(y)) if y[i] == 'Iris-versicolor'], \n",
    "     y2=[area_petal[i] for i in range(len(y)) if y[i] == 'Iris-versicolor'], \n",
    "     label2='versicolor',\n",
    "     x3=[area_sepal[i] for i in range(len(y)) if y[i] == 'Iris-setosa'], \n",
    "     y3=[area_petal[i] for i in range(len(y)) if y[i] == 'Iris-setosa'], \n",
    "     label3='setosa',\n",
    "     title1='Area sepal', title2='Area petal')\n"
   ],
   "metadata": {
    "collapsed": false,
    "ExecuteTime": {
     "end_time": "2025-05-13T08:26:31.057717300Z",
     "start_time": "2025-05-13T08:26:30.798033200Z"
    }
   },
   "id": "2518dbace5203cf1"
  },
  {
   "cell_type": "markdown",
   "source": [
    "# Train test split"
   ],
   "metadata": {
    "collapsed": false
   },
   "id": "b1251865849dc25d"
  },
  {
   "cell_type": "code",
   "execution_count": 27,
   "outputs": [
    {
     "ename": "AttributeError",
     "evalue": "'numpy.ndarray' object has no attribute 'iloc'",
     "output_type": "error",
     "traceback": [
      "\u001B[31m---------------------------------------------------------------------------\u001B[39m",
      "\u001B[31mAttributeError\u001B[39m                            Traceback (most recent call last)",
      "\u001B[36mCell\u001B[39m\u001B[36m \u001B[39m\u001B[32mIn[27]\u001B[39m\u001B[32m, line 6\u001B[39m\n\u001B[32m      2\u001B[39m area_petal_df = pd.Series(area_petal, name=\u001B[33m'\u001B[39m\u001B[33mstd_texture\u001B[39m\u001B[33m'\u001B[39m)\n\u001B[32m      3\u001B[39m data_df = pd.concat([area_sepal_df, area_petal_df], axis=\u001B[32m1\u001B[39m)\n\u001B[32m----> \u001B[39m\u001B[32m6\u001B[39m x_train, x_test, y_train, y_test = \u001B[43mtrain_test_split\u001B[49m\u001B[43m(\u001B[49m\u001B[43mdata_df\u001B[49m\u001B[43m,\u001B[49m\u001B[43m \u001B[49m\u001B[43my\u001B[49m\u001B[43m,\u001B[49m\u001B[43m \u001B[49m\u001B[43mtest_size\u001B[49m\u001B[43m=\u001B[49m\u001B[32;43m0.2\u001B[39;49m\u001B[43m,\u001B[49m\u001B[43m \u001B[49m\u001B[43mrandom_state\u001B[49m\u001B[43m=\u001B[49m\u001B[32;43m21\u001B[39;49m\u001B[43m)\u001B[49m\n\u001B[32m      8\u001B[39m \u001B[38;5;28;01mdef\u001B[39;00m\u001B[38;5;250m \u001B[39m\u001B[34mplot_data\u001B[39m(x, y, title):\n\u001B[32m      9\u001B[39m     area_sepal_train, area_petal_train = \u001B[38;5;28mzip\u001B[39m(*x)\n",
      "\u001B[36mCell\u001B[39m\u001B[36m \u001B[39m\u001B[32mIn[23]\u001B[39m\u001B[32m, line 39\u001B[39m, in \u001B[36mtrain_test_split\u001B[39m\u001B[34m(set1, set2, test_size, random_state)\u001B[39m\n\u001B[32m     36\u001B[39m train_indices = indices[\u001B[38;5;28mint\u001B[39m(test_size * \u001B[38;5;28mlen\u001B[39m(set1)):]\n\u001B[32m     38\u001B[39m \u001B[38;5;66;03m# return set1[train_indices], set1[test_indices], set2[train_indices], set2[test_indices]\u001B[39;00m\n\u001B[32m---> \u001B[39m\u001B[32m39\u001B[39m \u001B[38;5;28;01mreturn\u001B[39;00m set1.iloc[train_indices], set1.iloc[test_indices], \u001B[43mset2\u001B[49m\u001B[43m.\u001B[49m\u001B[43miloc\u001B[49m[train_indices], set2.iloc[test_indices]\n",
      "\u001B[31mAttributeError\u001B[39m: 'numpy.ndarray' object has no attribute 'iloc'"
     ]
    }
   ],
   "source": [
    "area_sepal_df = pd.Series(area_sepal, name='median_radius')\n",
    "area_petal_df = pd.Series(area_petal, name='std_texture')\n",
    "data_df = pd.concat([area_sepal_df, area_petal_df], axis=1)\n",
    "\n",
    "\n",
    "x_train, x_test, y_train, y_test = train_test_split(data_df, y, test_size=0.2, random_state=21)\n",
    "\n",
    "def plot_data(x, y, title):\n",
    "    area_sepal_train, area_petal_train = zip(*x)\n",
    "    \n",
    "    plot(title = title,\n",
    "         x1=[area_sepal_train[i] for i in range(len(y)) if y[i] == 'Iris-virginica'], \n",
    "         y1=[area_petal_train[i] for i in range(len(y)) if y[i] == 'Iris-virginica'], \n",
    "         label1='virginica',\n",
    "         x2=[area_sepal_train[i] for i in range(len(y)) if y[i] == 'Iris-versicolor'], \n",
    "         y2=[area_petal_train[i] for i in range(len(y)) if y[i] == 'Iris-versicolor'], \n",
    "         label2='versicolor',\n",
    "         x3=[area_sepal_train[i] for i in range(len(y)) if y[i] == 'Iris-setosa'], \n",
    "         y3=[area_petal_train[i] for i in range(len(y)) if y[i] == 'Iris-setosa'], \n",
    "         label3='setosa',\n",
    "         title1='Area sepal', title2='Area petal')\n",
    "\n",
    "    \n",
    "plot_data(x_train, y_train, 'Iris virginica-versicolor-setosa train data')\n",
    "plot_data(x_test, y_test, 'Iris virginica-versicolor-setosa test data')"
   ],
   "metadata": {
    "collapsed": false,
    "ExecuteTime": {
     "end_time": "2025-05-13T08:26:33.729781500Z",
     "start_time": "2025-05-13T08:26:33.626810600Z"
    }
   },
   "id": "6cbe740dfc0aa5ca"
  }
 ],
 "metadata": {
  "kernelspec": {
   "display_name": "Python 3",
   "language": "python",
   "name": "python3"
  },
  "language_info": {
   "codemirror_mode": {
    "name": "ipython",
    "version": 2
   },
   "file_extension": ".py",
   "mimetype": "text/x-python",
   "name": "python",
   "nbconvert_exporter": "python",
   "pygments_lexer": "ipython2",
   "version": "2.7.6"
  }
 },
 "nbformat": 4,
 "nbformat_minor": 5
}
