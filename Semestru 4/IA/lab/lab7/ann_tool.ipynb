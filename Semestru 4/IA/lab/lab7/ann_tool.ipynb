{
 "cells": [
  {
   "cell_type": "code",
   "execution_count": 81,
   "id": "initial_id",
   "metadata": {
    "collapsed": true,
    "ExecuteTime": {
     "end_time": "2025-05-14T12:24:02.602164600Z",
     "start_time": "2025-05-14T12:24:02.588408400Z"
    }
   },
   "outputs": [],
   "source": [
    "import numpy as np\n",
    "import os\n",
    "import random\n",
    "from PIL import Image\n",
    "from sklearn.preprocessing import StandardScaler\n",
    "from sklearn.metrics import confusion_matrix, ConfusionMatrixDisplay\n",
    "from sklearn.metrics import classification_report\n",
    "import matplotlib.pyplot as plt \n",
    "from sklearn import neural_network\n",
    "from sklearn import linear_model"
   ]
  },
  {
   "cell_type": "markdown",
   "source": [
    "# Train test split "
   ],
   "metadata": {
    "collapsed": false
   },
   "id": "f47089a0f2c20767"
  },
  {
   "cell_type": "code",
   "execution_count": 73,
   "outputs": [],
   "source": [
    "img_folder = 'Q:/Personal/poze/ml_datra/sepia'\n",
    "\n",
    "def split_files(folder_path, test_size = .2):\n",
    "    files = [f for f in os.listdir(folder_path) if os.path.isfile(os.path.join(folder_path, f))]\n",
    "    random.shuffle(files)\n",
    "    \n",
    "    train = files[:int(len(files) * (1- test_size))]\n",
    "    test = files[int(len(files) * (1- test_size)):]\n",
    "    \n",
    "    return train, test\n",
    "\n",
    "x_train_filenames, x_test_filenames = split_files(img_folder, test_size=.2)\n",
    "    "
   ],
   "metadata": {
    "collapsed": false,
    "ExecuteTime": {
     "end_time": "2025-05-14T12:21:20.798748Z",
     "start_time": "2025-05-14T12:21:20.773724100Z"
    }
   },
   "id": "7b6a403964194b5f"
  },
  {
   "cell_type": "markdown",
   "source": [
    "# Filename -> image -> input"
   ],
   "metadata": {
    "collapsed": false
   },
   "id": "9f32fbc2fad98f"
  },
  {
   "cell_type": "code",
   "execution_count": 74,
   "outputs": [],
   "source": [
    "def load_images(filename_list, folder_path, size=(100, 100)):\n",
    "    images = []\n",
    "    for filename in filename_list:\n",
    "        image = Image.open(\n",
    "            os.path.join(folder_path, filename)\n",
    "        )\n",
    "        image = image.resize(size)\n",
    "        image = image.convert('RGB')\n",
    "        image_arr = np.array(image)\n",
    "        images += [image_arr.flatten()]\n",
    "        \n",
    "    images_arr = np.array(images)\n",
    "    return images_arr\n",
    "\n",
    "x_train = load_images(x_train_filenames, img_folder)\n",
    "y_train = ['sepia' in filename for filename in x_train_filenames]\n",
    "x_test = load_images(x_test_filenames, img_folder)\n",
    "y_test = ['sepia' in filename for filename in x_test_filenames]"
   ],
   "metadata": {
    "collapsed": false,
    "ExecuteTime": {
     "end_time": "2025-05-14T12:21:35.301984600Z",
     "start_time": "2025-05-14T12:21:23.728946900Z"
    }
   },
   "id": "b15e2e01f468e0f7"
  },
  {
   "cell_type": "markdown",
   "source": [
    "# Normalise data"
   ],
   "metadata": {
    "collapsed": false
   },
   "id": "4d34aa2c69f8643"
  },
  {
   "cell_type": "code",
   "execution_count": 75,
   "outputs": [],
   "source": [
    "def normalisation(trainData, testData):\n",
    "    scaler = StandardScaler()\n",
    "        \n",
    "    scaler.fit(trainData)\n",
    "    normalisedTrainData = scaler.transform(trainData)  \n",
    "    normalisedTestData = scaler.transform(testData) \n",
    "    \n",
    "    return normalisedTrainData, normalisedTestData\n",
    "\n",
    "x_train_norm, x_test_norm = normalisation(x_train, x_test)"
   ],
   "metadata": {
    "collapsed": false,
    "ExecuteTime": {
     "end_time": "2025-05-14T12:21:37.168069900Z",
     "start_time": "2025-05-14T12:21:37.003284900Z"
    }
   },
   "id": "6ccec8e51379ae2d"
  },
  {
   "cell_type": "markdown",
   "source": [
    "# Train model"
   ],
   "metadata": {
    "collapsed": false
   },
   "id": "bfccb6c640051aa"
  },
  {
   "cell_type": "code",
   "execution_count": 93,
   "outputs": [
    {
     "name": "stdout",
     "output_type": "stream",
     "text": [
      "Iteration 1, loss = 0.78826412\n",
      "Iteration 2, loss = 0.57071700\n",
      "Iteration 3, loss = 0.42040683\n",
      "Iteration 4, loss = 0.32470185\n",
      "Iteration 5, loss = 0.25782915\n",
      "Iteration 6, loss = 0.21047544\n",
      "Iteration 7, loss = 0.17710508\n",
      "Iteration 8, loss = 0.15319179\n",
      "Iteration 9, loss = 0.13542752\n",
      "Iteration 10, loss = 0.12183703\n",
      "Iteration 11, loss = 0.11022743\n",
      "Iteration 12, loss = 0.09975184\n",
      "Iteration 13, loss = 0.09050003\n",
      "Iteration 14, loss = 0.08256402\n",
      "Iteration 15, loss = 0.07564196\n",
      "Iteration 16, loss = 0.06963145\n",
      "Iteration 17, loss = 0.06431602\n",
      "Iteration 18, loss = 0.05954356\n",
      "Iteration 19, loss = 0.05529712\n",
      "Iteration 20, loss = 0.05159506\n",
      "Iteration 21, loss = 0.04830287\n",
      "Iteration 22, loss = 0.04532254\n",
      "Iteration 23, loss = 0.04266178\n",
      "Iteration 24, loss = 0.04020715\n",
      "Iteration 25, loss = 0.03796413\n",
      "Iteration 26, loss = 0.03593693\n",
      "Iteration 27, loss = 0.03408801\n",
      "Iteration 28, loss = 0.03239720\n",
      "Iteration 29, loss = 0.03085078\n",
      "Iteration 30, loss = 0.02944814\n",
      "Iteration 31, loss = 0.02815538\n",
      "Iteration 32, loss = 0.02697447\n",
      "Iteration 33, loss = 0.02587659\n",
      "Iteration 34, loss = 0.02485411\n",
      "Iteration 35, loss = 0.02390640\n",
      "Iteration 36, loss = 0.02301332\n",
      "Iteration 37, loss = 0.02218979\n",
      "Iteration 38, loss = 0.02142411\n",
      "Iteration 39, loss = 0.02071119\n",
      "Iteration 40, loss = 0.02005109\n",
      "Iteration 41, loss = 0.01944724\n",
      "Iteration 42, loss = 0.01887648\n",
      "Iteration 43, loss = 0.01833659\n",
      "Iteration 44, loss = 0.01783383\n",
      "Iteration 45, loss = 0.01736076\n",
      "Iteration 46, loss = 0.01691727\n",
      "Iteration 47, loss = 0.01649637\n",
      "Iteration 48, loss = 0.01609740\n",
      "Iteration 49, loss = 0.01572296\n",
      "Iteration 50, loss = 0.01536622\n",
      "Iteration 51, loss = 0.01502460\n",
      "Iteration 52, loss = 0.01470197\n",
      "Iteration 53, loss = 0.01439187\n",
      "Iteration 54, loss = 0.01409603\n",
      "Iteration 55, loss = 0.01381060\n",
      "Iteration 56, loss = 0.01353881\n",
      "Iteration 57, loss = 0.01327601\n",
      "Iteration 58, loss = 0.01302578\n",
      "Iteration 59, loss = 0.01278543\n",
      "Iteration 60, loss = 0.01255456\n",
      "Iteration 61, loss = 0.01233222\n",
      "Iteration 62, loss = 0.01211939\n",
      "Iteration 63, loss = 0.01191648\n",
      "Iteration 64, loss = 0.01172171\n",
      "Iteration 65, loss = 0.01153556\n",
      "Iteration 66, loss = 0.01135523\n",
      "Iteration 67, loss = 0.01118179\n",
      "Iteration 68, loss = 0.01101366\n",
      "Iteration 69, loss = 0.01085047\n",
      "Iteration 70, loss = 0.01069243\n",
      "Iteration 71, loss = 0.01053865\n",
      "Iteration 72, loss = 0.01038987\n",
      "Iteration 73, loss = 0.01024440\n",
      "Iteration 74, loss = 0.01010421\n",
      "Iteration 75, loss = 0.00996810\n",
      "Iteration 76, loss = 0.00983550\n",
      "Iteration 77, loss = 0.00970791\n",
      "Iteration 78, loss = 0.00958509\n",
      "Iteration 79, loss = 0.00946485\n",
      "Iteration 80, loss = 0.00934910\n",
      "Iteration 81, loss = 0.00923682\n",
      "Iteration 82, loss = 0.00912742\n",
      "Iteration 83, loss = 0.00902164\n",
      "Iteration 84, loss = 0.00891768\n",
      "Iteration 85, loss = 0.00881639\n",
      "Iteration 86, loss = 0.00871736\n",
      "Iteration 87, loss = 0.00862073\n",
      "Iteration 88, loss = 0.00852652\n",
      "Iteration 89, loss = 0.00843429\n",
      "Iteration 90, loss = 0.00834421\n",
      "Iteration 91, loss = 0.00825513\n",
      "Iteration 92, loss = 0.00816908\n",
      "Iteration 93, loss = 0.00808452\n",
      "Iteration 94, loss = 0.00800120\n",
      "Iteration 95, loss = 0.00791938\n",
      "Iteration 96, loss = 0.00783929\n",
      "Training loss did not improve more than tol=0.000100 for 10 consecutive epochs. Stopping.\n"
     ]
    },
    {
     "data": {
      "text/plain": "MLPClassifier(learning_rate_init=0.002, max_iter=100, random_state=1,\n              solver='sgd', verbose=10)",
      "text/html": "<style>#sk-container-id-15 {\n  /* Definition of color scheme common for light and dark mode */\n  --sklearn-color-text: #000;\n  --sklearn-color-text-muted: #666;\n  --sklearn-color-line: gray;\n  /* Definition of color scheme for unfitted estimators */\n  --sklearn-color-unfitted-level-0: #fff5e6;\n  --sklearn-color-unfitted-level-1: #f6e4d2;\n  --sklearn-color-unfitted-level-2: #ffe0b3;\n  --sklearn-color-unfitted-level-3: chocolate;\n  /* Definition of color scheme for fitted estimators */\n  --sklearn-color-fitted-level-0: #f0f8ff;\n  --sklearn-color-fitted-level-1: #d4ebff;\n  --sklearn-color-fitted-level-2: #b3dbfd;\n  --sklearn-color-fitted-level-3: cornflowerblue;\n\n  /* Specific color for light theme */\n  --sklearn-color-text-on-default-background: var(--sg-text-color, var(--theme-code-foreground, var(--jp-content-font-color1, black)));\n  --sklearn-color-background: var(--sg-background-color, var(--theme-background, var(--jp-layout-color0, white)));\n  --sklearn-color-border-box: var(--sg-text-color, var(--theme-code-foreground, var(--jp-content-font-color1, black)));\n  --sklearn-color-icon: #696969;\n\n  @media (prefers-color-scheme: dark) {\n    /* Redefinition of color scheme for dark theme */\n    --sklearn-color-text-on-default-background: var(--sg-text-color, var(--theme-code-foreground, var(--jp-content-font-color1, white)));\n    --sklearn-color-background: var(--sg-background-color, var(--theme-background, var(--jp-layout-color0, #111)));\n    --sklearn-color-border-box: var(--sg-text-color, var(--theme-code-foreground, var(--jp-content-font-color1, white)));\n    --sklearn-color-icon: #878787;\n  }\n}\n\n#sk-container-id-15 {\n  color: var(--sklearn-color-text);\n}\n\n#sk-container-id-15 pre {\n  padding: 0;\n}\n\n#sk-container-id-15 input.sk-hidden--visually {\n  border: 0;\n  clip: rect(1px 1px 1px 1px);\n  clip: rect(1px, 1px, 1px, 1px);\n  height: 1px;\n  margin: -1px;\n  overflow: hidden;\n  padding: 0;\n  position: absolute;\n  width: 1px;\n}\n\n#sk-container-id-15 div.sk-dashed-wrapped {\n  border: 1px dashed var(--sklearn-color-line);\n  margin: 0 0.4em 0.5em 0.4em;\n  box-sizing: border-box;\n  padding-bottom: 0.4em;\n  background-color: var(--sklearn-color-background);\n}\n\n#sk-container-id-15 div.sk-container {\n  /* jupyter's `normalize.less` sets `[hidden] { display: none; }`\n     but bootstrap.min.css set `[hidden] { display: none !important; }`\n     so we also need the `!important` here to be able to override the\n     default hidden behavior on the sphinx rendered scikit-learn.org.\n     See: https://github.com/scikit-learn/scikit-learn/issues/21755 */\n  display: inline-block !important;\n  position: relative;\n}\n\n#sk-container-id-15 div.sk-text-repr-fallback {\n  display: none;\n}\n\ndiv.sk-parallel-item,\ndiv.sk-serial,\ndiv.sk-item {\n  /* draw centered vertical line to link estimators */\n  background-image: linear-gradient(var(--sklearn-color-text-on-default-background), var(--sklearn-color-text-on-default-background));\n  background-size: 2px 100%;\n  background-repeat: no-repeat;\n  background-position: center center;\n}\n\n/* Parallel-specific style estimator block */\n\n#sk-container-id-15 div.sk-parallel-item::after {\n  content: \"\";\n  width: 100%;\n  border-bottom: 2px solid var(--sklearn-color-text-on-default-background);\n  flex-grow: 1;\n}\n\n#sk-container-id-15 div.sk-parallel {\n  display: flex;\n  align-items: stretch;\n  justify-content: center;\n  background-color: var(--sklearn-color-background);\n  position: relative;\n}\n\n#sk-container-id-15 div.sk-parallel-item {\n  display: flex;\n  flex-direction: column;\n}\n\n#sk-container-id-15 div.sk-parallel-item:first-child::after {\n  align-self: flex-end;\n  width: 50%;\n}\n\n#sk-container-id-15 div.sk-parallel-item:last-child::after {\n  align-self: flex-start;\n  width: 50%;\n}\n\n#sk-container-id-15 div.sk-parallel-item:only-child::after {\n  width: 0;\n}\n\n/* Serial-specific style estimator block */\n\n#sk-container-id-15 div.sk-serial {\n  display: flex;\n  flex-direction: column;\n  align-items: center;\n  background-color: var(--sklearn-color-background);\n  padding-right: 1em;\n  padding-left: 1em;\n}\n\n\n/* Toggleable style: style used for estimator/Pipeline/ColumnTransformer box that is\nclickable and can be expanded/collapsed.\n- Pipeline and ColumnTransformer use this feature and define the default style\n- Estimators will overwrite some part of the style using the `sk-estimator` class\n*/\n\n/* Pipeline and ColumnTransformer style (default) */\n\n#sk-container-id-15 div.sk-toggleable {\n  /* Default theme specific background. It is overwritten whether we have a\n  specific estimator or a Pipeline/ColumnTransformer */\n  background-color: var(--sklearn-color-background);\n}\n\n/* Toggleable label */\n#sk-container-id-15 label.sk-toggleable__label {\n  cursor: pointer;\n  display: flex;\n  width: 100%;\n  margin-bottom: 0;\n  padding: 0.5em;\n  box-sizing: border-box;\n  text-align: center;\n  align-items: start;\n  justify-content: space-between;\n  gap: 0.5em;\n}\n\n#sk-container-id-15 label.sk-toggleable__label .caption {\n  font-size: 0.6rem;\n  font-weight: lighter;\n  color: var(--sklearn-color-text-muted);\n}\n\n#sk-container-id-15 label.sk-toggleable__label-arrow:before {\n  /* Arrow on the left of the label */\n  content: \"▸\";\n  float: left;\n  margin-right: 0.25em;\n  color: var(--sklearn-color-icon);\n}\n\n#sk-container-id-15 label.sk-toggleable__label-arrow:hover:before {\n  color: var(--sklearn-color-text);\n}\n\n/* Toggleable content - dropdown */\n\n#sk-container-id-15 div.sk-toggleable__content {\n  max-height: 0;\n  max-width: 0;\n  overflow: hidden;\n  text-align: left;\n  /* unfitted */\n  background-color: var(--sklearn-color-unfitted-level-0);\n}\n\n#sk-container-id-15 div.sk-toggleable__content.fitted {\n  /* fitted */\n  background-color: var(--sklearn-color-fitted-level-0);\n}\n\n#sk-container-id-15 div.sk-toggleable__content pre {\n  margin: 0.2em;\n  border-radius: 0.25em;\n  color: var(--sklearn-color-text);\n  /* unfitted */\n  background-color: var(--sklearn-color-unfitted-level-0);\n}\n\n#sk-container-id-15 div.sk-toggleable__content.fitted pre {\n  /* unfitted */\n  background-color: var(--sklearn-color-fitted-level-0);\n}\n\n#sk-container-id-15 input.sk-toggleable__control:checked~div.sk-toggleable__content {\n  /* Expand drop-down */\n  max-height: 200px;\n  max-width: 100%;\n  overflow: auto;\n}\n\n#sk-container-id-15 input.sk-toggleable__control:checked~label.sk-toggleable__label-arrow:before {\n  content: \"▾\";\n}\n\n/* Pipeline/ColumnTransformer-specific style */\n\n#sk-container-id-15 div.sk-label input.sk-toggleable__control:checked~label.sk-toggleable__label {\n  color: var(--sklearn-color-text);\n  background-color: var(--sklearn-color-unfitted-level-2);\n}\n\n#sk-container-id-15 div.sk-label.fitted input.sk-toggleable__control:checked~label.sk-toggleable__label {\n  background-color: var(--sklearn-color-fitted-level-2);\n}\n\n/* Estimator-specific style */\n\n/* Colorize estimator box */\n#sk-container-id-15 div.sk-estimator input.sk-toggleable__control:checked~label.sk-toggleable__label {\n  /* unfitted */\n  background-color: var(--sklearn-color-unfitted-level-2);\n}\n\n#sk-container-id-15 div.sk-estimator.fitted input.sk-toggleable__control:checked~label.sk-toggleable__label {\n  /* fitted */\n  background-color: var(--sklearn-color-fitted-level-2);\n}\n\n#sk-container-id-15 div.sk-label label.sk-toggleable__label,\n#sk-container-id-15 div.sk-label label {\n  /* The background is the default theme color */\n  color: var(--sklearn-color-text-on-default-background);\n}\n\n/* On hover, darken the color of the background */\n#sk-container-id-15 div.sk-label:hover label.sk-toggleable__label {\n  color: var(--sklearn-color-text);\n  background-color: var(--sklearn-color-unfitted-level-2);\n}\n\n/* Label box, darken color on hover, fitted */\n#sk-container-id-15 div.sk-label.fitted:hover label.sk-toggleable__label.fitted {\n  color: var(--sklearn-color-text);\n  background-color: var(--sklearn-color-fitted-level-2);\n}\n\n/* Estimator label */\n\n#sk-container-id-15 div.sk-label label {\n  font-family: monospace;\n  font-weight: bold;\n  display: inline-block;\n  line-height: 1.2em;\n}\n\n#sk-container-id-15 div.sk-label-container {\n  text-align: center;\n}\n\n/* Estimator-specific */\n#sk-container-id-15 div.sk-estimator {\n  font-family: monospace;\n  border: 1px dotted var(--sklearn-color-border-box);\n  border-radius: 0.25em;\n  box-sizing: border-box;\n  margin-bottom: 0.5em;\n  /* unfitted */\n  background-color: var(--sklearn-color-unfitted-level-0);\n}\n\n#sk-container-id-15 div.sk-estimator.fitted {\n  /* fitted */\n  background-color: var(--sklearn-color-fitted-level-0);\n}\n\n/* on hover */\n#sk-container-id-15 div.sk-estimator:hover {\n  /* unfitted */\n  background-color: var(--sklearn-color-unfitted-level-2);\n}\n\n#sk-container-id-15 div.sk-estimator.fitted:hover {\n  /* fitted */\n  background-color: var(--sklearn-color-fitted-level-2);\n}\n\n/* Specification for estimator info (e.g. \"i\" and \"?\") */\n\n/* Common style for \"i\" and \"?\" */\n\n.sk-estimator-doc-link,\na:link.sk-estimator-doc-link,\na:visited.sk-estimator-doc-link {\n  float: right;\n  font-size: smaller;\n  line-height: 1em;\n  font-family: monospace;\n  background-color: var(--sklearn-color-background);\n  border-radius: 1em;\n  height: 1em;\n  width: 1em;\n  text-decoration: none !important;\n  margin-left: 0.5em;\n  text-align: center;\n  /* unfitted */\n  border: var(--sklearn-color-unfitted-level-1) 1pt solid;\n  color: var(--sklearn-color-unfitted-level-1);\n}\n\n.sk-estimator-doc-link.fitted,\na:link.sk-estimator-doc-link.fitted,\na:visited.sk-estimator-doc-link.fitted {\n  /* fitted */\n  border: var(--sklearn-color-fitted-level-1) 1pt solid;\n  color: var(--sklearn-color-fitted-level-1);\n}\n\n/* On hover */\ndiv.sk-estimator:hover .sk-estimator-doc-link:hover,\n.sk-estimator-doc-link:hover,\ndiv.sk-label-container:hover .sk-estimator-doc-link:hover,\n.sk-estimator-doc-link:hover {\n  /* unfitted */\n  background-color: var(--sklearn-color-unfitted-level-3);\n  color: var(--sklearn-color-background);\n  text-decoration: none;\n}\n\ndiv.sk-estimator.fitted:hover .sk-estimator-doc-link.fitted:hover,\n.sk-estimator-doc-link.fitted:hover,\ndiv.sk-label-container:hover .sk-estimator-doc-link.fitted:hover,\n.sk-estimator-doc-link.fitted:hover {\n  /* fitted */\n  background-color: var(--sklearn-color-fitted-level-3);\n  color: var(--sklearn-color-background);\n  text-decoration: none;\n}\n\n/* Span, style for the box shown on hovering the info icon */\n.sk-estimator-doc-link span {\n  display: none;\n  z-index: 9999;\n  position: relative;\n  font-weight: normal;\n  right: .2ex;\n  padding: .5ex;\n  margin: .5ex;\n  width: min-content;\n  min-width: 20ex;\n  max-width: 50ex;\n  color: var(--sklearn-color-text);\n  box-shadow: 2pt 2pt 4pt #999;\n  /* unfitted */\n  background: var(--sklearn-color-unfitted-level-0);\n  border: .5pt solid var(--sklearn-color-unfitted-level-3);\n}\n\n.sk-estimator-doc-link.fitted span {\n  /* fitted */\n  background: var(--sklearn-color-fitted-level-0);\n  border: var(--sklearn-color-fitted-level-3);\n}\n\n.sk-estimator-doc-link:hover span {\n  display: block;\n}\n\n/* \"?\"-specific style due to the `<a>` HTML tag */\n\n#sk-container-id-15 a.estimator_doc_link {\n  float: right;\n  font-size: 1rem;\n  line-height: 1em;\n  font-family: monospace;\n  background-color: var(--sklearn-color-background);\n  border-radius: 1rem;\n  height: 1rem;\n  width: 1rem;\n  text-decoration: none;\n  /* unfitted */\n  color: var(--sklearn-color-unfitted-level-1);\n  border: var(--sklearn-color-unfitted-level-1) 1pt solid;\n}\n\n#sk-container-id-15 a.estimator_doc_link.fitted {\n  /* fitted */\n  border: var(--sklearn-color-fitted-level-1) 1pt solid;\n  color: var(--sklearn-color-fitted-level-1);\n}\n\n/* On hover */\n#sk-container-id-15 a.estimator_doc_link:hover {\n  /* unfitted */\n  background-color: var(--sklearn-color-unfitted-level-3);\n  color: var(--sklearn-color-background);\n  text-decoration: none;\n}\n\n#sk-container-id-15 a.estimator_doc_link.fitted:hover {\n  /* fitted */\n  background-color: var(--sklearn-color-fitted-level-3);\n}\n</style><div id=\"sk-container-id-15\" class=\"sk-top-container\"><div class=\"sk-text-repr-fallback\"><pre>MLPClassifier(learning_rate_init=0.002, max_iter=100, random_state=1,\n              solver=&#x27;sgd&#x27;, verbose=10)</pre><b>In a Jupyter environment, please rerun this cell to show the HTML representation or trust the notebook. <br />On GitHub, the HTML representation is unable to render, please try loading this page with nbviewer.org.</b></div><div class=\"sk-container\" hidden><div class=\"sk-item\"><div class=\"sk-estimator fitted sk-toggleable\"><input class=\"sk-toggleable__control sk-hidden--visually\" id=\"sk-estimator-id-15\" type=\"checkbox\" checked><label for=\"sk-estimator-id-15\" class=\"sk-toggleable__label fitted sk-toggleable__label-arrow\"><div><div>MLPClassifier</div></div><div><a class=\"sk-estimator-doc-link fitted\" rel=\"noreferrer\" target=\"_blank\" href=\"https://scikit-learn.org/1.6/modules/generated/sklearn.neural_network.MLPClassifier.html\">?<span>Documentation for MLPClassifier</span></a><span class=\"sk-estimator-doc-link fitted\">i<span>Fitted</span></span></div></label><div class=\"sk-toggleable__content fitted\"><pre>MLPClassifier(learning_rate_init=0.002, max_iter=100, random_state=1,\n              solver=&#x27;sgd&#x27;, verbose=10)</pre></div> </div></div></div></div>"
     },
     "execution_count": 93,
     "metadata": {},
     "output_type": "execute_result"
    }
   ],
   "source": [
    "classifier = neural_network.MLPClassifier(hidden_layer_sizes=(100, ), activation='relu', max_iter=100, solver='sgd', verbose=10, random_state=1, learning_rate_init=.002 )\n",
    "classifier.fit(x_train_norm, y_train)"
   ],
   "metadata": {
    "collapsed": false,
    "ExecuteTime": {
     "end_time": "2025-05-14T13:26:45.371762700Z",
     "start_time": "2025-05-14T13:26:27.985092900Z"
    }
   },
   "id": "cbff3b05f36d12b1"
  },
  {
   "cell_type": "markdown",
   "source": [
    "# Test model"
   ],
   "metadata": {
    "collapsed": false
   },
   "id": "66c3c6ca36a95843"
  },
  {
   "cell_type": "code",
   "execution_count": 94,
   "outputs": [],
   "source": [
    "y_predict = classifier.predict(x_test)"
   ],
   "metadata": {
    "collapsed": false,
    "ExecuteTime": {
     "end_time": "2025-05-14T13:26:48.910841800Z",
     "start_time": "2025-05-14T13:26:48.847673800Z"
    }
   },
   "id": "10051e2702ffa336"
  },
  {
   "cell_type": "markdown",
   "source": [
    "# Metrics"
   ],
   "metadata": {
    "collapsed": false
   },
   "id": "218306c21304c166"
  },
  {
   "cell_type": "code",
   "execution_count": 95,
   "outputs": [
    {
     "data": {
      "text/plain": "<Figure size 640x480 with 2 Axes>",
      "image/png": "[encoded data removed]"
     },
     "metadata": {},
     "output_type": "display_data"
    },
    {
     "name": "stdout",
     "output_type": "stream",
     "text": [
      "              precision    recall  f1-score   support\n",
      "\n",
      "       False       0.00      0.00      0.00        26\n",
      "        True       0.41      1.00      0.58        18\n",
      "\n",
      "    accuracy                           0.41        44\n",
      "   macro avg       0.20      0.50      0.29        44\n",
      "weighted avg       0.17      0.41      0.24        44\n"
     ]
    },
    {
     "name": "stderr",
     "output_type": "stream",
     "text": [
      "Q:\\info\\Python\\lab7\\Lib\\site-packages\\sklearn\\metrics\\_classification.py:1565: UndefinedMetricWarning: Precision is ill-defined and being set to 0.0 in labels with no predicted samples. Use `zero_division` parameter to control this behavior.\n",
      "  _warn_prf(average, modifier, f\"{metric.capitalize()} is\", len(result))\n",
      "Q:\\info\\Python\\lab7\\Lib\\site-packages\\sklearn\\metrics\\_classification.py:1565: UndefinedMetricWarning: Precision is ill-defined and being set to 0.0 in labels with no predicted samples. Use `zero_division` parameter to control this behavior.\n",
      "  _warn_prf(average, modifier, f\"{metric.capitalize()} is\", len(result))\n",
      "Q:\\info\\Python\\lab7\\Lib\\site-packages\\sklearn\\metrics\\_classification.py:1565: UndefinedMetricWarning: Precision is ill-defined and being set to 0.0 in labels with no predicted samples. Use `zero_division` parameter to control this behavior.\n",
      "  _warn_prf(average, modifier, f\"{metric.capitalize()} is\", len(result))\n"
     ]
    }
   ],
   "source": [
    "ConfusionMatrixDisplay(\n",
    "    confusion_matrix = confusion_matrix(\n",
    "        y_test, y_predict\n",
    "    )\n",
    ").plot(cmap=plt.cm.Purples)\n",
    "plt.show()\n",
    "\n",
    "print(classification_report(y_test, y_predict))"
   ],
   "metadata": {
    "collapsed": false,
    "ExecuteTime": {
     "end_time": "2025-05-14T13:26:50.820799900Z",
     "start_time": "2025-05-14T13:26:50.389354Z"
    }
   },
   "id": "3fb8c0f36a620afe"
  }
 ],
 "metadata": {
  "kernelspec": {
   "display_name": "Python 3",
   "language": "python",
   "name": "python3"
  },
  "language_info": {
   "codemirror_mode": {
    "name": "ipython",
    "version": 2
   },
   "file_extension": ".py",
   "mimetype": "text/x-python",
   "name": "python",
   "nbconvert_exporter": "python",
   "pygments_lexer": "ipython2",
   "version": "2.7.6"
  }
 },
 "nbformat": 4,
 "nbformat_minor": 5
}
