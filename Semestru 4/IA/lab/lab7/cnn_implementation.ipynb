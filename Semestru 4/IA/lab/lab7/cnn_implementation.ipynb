{
 "cells": [
  {
   "cell_type": "code",
   "execution_count": 1,
   "id": "initial_id",
   "metadata": {
    "collapsed": true,
    "ExecuteTime": {
     "end_time": "2025-05-14T13:31:22.209227400Z",
     "start_time": "2025-05-14T13:31:10.638269500Z"
    }
   },
   "outputs": [],
   "source": [
    "import numpy as np\n",
    "import os\n",
    "import random\n",
    "from PIL import Image\n",
    "from sklearn.preprocessing import StandardScaler\n",
    "from sklearn.metrics import confusion_matrix, ConfusionMatrixDisplay\n",
    "from sklearn.metrics import classification_report\n",
    "import matplotlib.pyplot as plt "
   ]
  },
  {
   "cell_type": "markdown",
   "source": [
    "# Train test split"
   ],
   "metadata": {
    "collapsed": false
   },
   "id": "309712e6039b102f"
  },
  {
   "cell_type": "code",
   "execution_count": 2,
   "outputs": [],
   "source": [
    "img_folder = 'Q:/Personal/poze/ml_datra/sepia'\n",
    "\n",
    "def split_files(folder_path, test_size = .2):\n",
    "    files = [f for f in os.listdir(folder_path) if os.path.isfile(os.path.join(folder_path, f))]\n",
    "    random.shuffle(files)\n",
    "    \n",
    "    train = files[:int(len(files) * (1- test_size))]\n",
    "    test = files[int(len(files) * (1- test_size)):]\n",
    "    \n",
    "    return train, test\n",
    "\n",
    "x_train_filenames, x_test_filenames = split_files(img_folder, test_size=.2)\n",
    "    "
   ],
   "metadata": {
    "collapsed": false,
    "ExecuteTime": {
     "end_time": "2025-05-14T13:31:22.231169400Z",
     "start_time": "2025-05-14T13:31:22.215518500Z"
    }
   },
   "id": "d9d33594134bfd29"
  },
  {
   "cell_type": "markdown",
   "source": [
    "# Filename -> image -> input"
   ],
   "metadata": {
    "collapsed": false
   },
   "id": "52d9f343f091d7b6"
  },
  {
   "cell_type": "code",
   "execution_count": 4,
   "outputs": [],
   "source": [
    "def load_images(filename_list, folder_path, size=(100, 100)):\n",
    "    images = []\n",
    "    for filename in filename_list:\n",
    "        image = Image.open(\n",
    "            os.path.join(folder_path, filename)\n",
    "        )\n",
    "        image = image.resize(size)\n",
    "        image = image.convert('RGB')\n",
    "        image_arr = np.array(image)\n",
    "        images += [image_arr]\n",
    "        \n",
    "    images_arr = np.array(images)\n",
    "    return images_arr\n",
    "\n",
    "x_train = load_images(x_train_filenames, img_folder)\n",
    "y_train = ['sepia' in filename for filename in x_train_filenames]\n",
    "x_test = load_images(x_test_filenames, img_folder)\n",
    "y_test = ['sepia' in filename for filename in x_test_filenames]"
   ],
   "metadata": {
    "collapsed": false,
    "ExecuteTime": {
     "end_time": "2025-05-14T13:45:59.307916600Z",
     "start_time": "2025-05-14T13:45:42.521451100Z"
    }
   },
   "id": "5858e9a2215fb681"
  },
  {
   "cell_type": "markdown",
   "source": [
    "# Normalise data"
   ],
   "metadata": {
    "collapsed": false
   },
   "id": "be4ca61d0cf11e37"
  },
  {
   "cell_type": "code",
   "execution_count": 6,
   "outputs": [],
   "source": [
    "x_train_norm = x_train.astype(np.float32) / 255.0\n",
    "x_test_norm = x_test.astype(np.float32) / 255.0"
   ],
   "metadata": {
    "collapsed": false,
    "ExecuteTime": {
     "end_time": "2025-05-14T13:48:26.605886500Z",
     "start_time": "2025-05-14T13:48:26.505561500Z"
    }
   },
   "id": "99ed50e6ef284d50"
  },
  {
   "cell_type": "markdown",
   "source": [
    "# Cnn classifier"
   ],
   "metadata": {
    "collapsed": false
   },
   "id": "8f647c3362517d3a"
  },
  {
   "cell_type": "code",
   "execution_count": 25,
   "outputs": [],
   "source": [
    "class CNN:\n",
    "    def __init__(self, input_shape, kernel_size=3, pool_size=2):\n",
    "        self.input_shape = input_shape\n",
    "        self.kernel_size = kernel_size\n",
    "        self.pool_size = pool_size\n",
    "        self.kernel = np.random.randn(kernel_size, kernel_size, input_shape[2]) * 0.1\n",
    "        self.bias_conv = 0.0\n",
    "        conv_h = input_shape[0] - kernel_size + 1\n",
    "        conv_w = input_shape[1] - kernel_size + 1\n",
    "        pooled_h = conv_h // pool_size\n",
    "        pooled_w = conv_w // pool_size\n",
    "        self.fc_input_dim = pooled_h * pooled_w\n",
    "\n",
    "        self.fc_weights = np.random.randn(self.fc_input_dim, 1) * 0.1\n",
    "        self.fc_bias = 0.0\n",
    "\n",
    "        self.loss_history = []\n",
    "        self.accuracy_history = []\n",
    "\n",
    "    def convolve(self, image):\n",
    "        h, w, _ = image.shape\n",
    "        kh = self.kernel_size\n",
    "        out = np.zeros((h - kh + 1, w - kh + 1))\n",
    "\n",
    "        for i in range(out.shape[0]):\n",
    "            for j in range(out.shape[1]):\n",
    "                region = image[i:i+kh, j:j+kh, :]\n",
    "                out[i, j] = np.sum(region * self.kernel) + self.bias_conv\n",
    "        return out\n",
    "\n",
    "    def max_pool(self, feature_map):\n",
    "        h, w = feature_map.shape\n",
    "        ph = pw = self.pool_size\n",
    "        out_h, out_w = h // ph, w // pw\n",
    "        pooled = np.zeros((out_h, out_w))\n",
    "\n",
    "        for i in range(out_h):\n",
    "            for j in range(out_w):\n",
    "                region = feature_map[i*ph:(i+1)*ph, j*pw:(j+1)*pw]\n",
    "                pooled[i, j] = np.max(region)\n",
    "        return pooled\n",
    "\n",
    "    def forward(self, image):\n",
    "        self.input = image\n",
    "        self.conv_out = self.convolve(image)\n",
    "        self.relu_out = relu(self.conv_out)\n",
    "        self.pooled = self.max_pool(self.relu_out)\n",
    "        self.flattened = self.pooled.flatten()\n",
    "        self.fc_z = np.dot(self.flattened, self.fc_weights) + self.fc_bias\n",
    "        self.output = sigmoid(self.fc_z)\n",
    "        return self.output\n",
    "\n",
    "    def backward(self, y_true, learning_rate=0.01):\n",
    "        d_loss = self.output - y_true  \n",
    "\n",
    "        d_fc_weights = np.dot(self.flattened[:, np.newaxis], d_loss[np.newaxis])  \n",
    "        d_fc_bias = d_loss\n",
    "\n",
    "        self.fc_weights -= learning_rate * d_fc_weights\n",
    "        self.fc_bias -= learning_rate * d_fc_bias\n",
    "\n",
    "\n",
    "    def fit(self, X, y, epochs=10, learning_rate=0.01):\n",
    "        for epoch in range(epochs):\n",
    "            losses = []\n",
    "            correct = 0\n",
    "            for i in range(len(X)):\n",
    "                output = self.forward(X[i])\n",
    "                loss = binary_cross_entropy(y[i], output)\n",
    "                losses.append(loss)\n",
    "\n",
    "                prediction = int(output > 0.5)\n",
    "                correct += (prediction == y[i])\n",
    "\n",
    "                self.backward(y[i], learning_rate)\n",
    "\n",
    "            avg_loss = np.mean(losses)\n",
    "            accuracy = correct / len(X)\n",
    "            self.loss_history.append(avg_loss)\n",
    "            self.accuracy_history.append(accuracy)\n",
    "            print(f\"Epoch {epoch+1}: Loss = {avg_loss:.4f}\")\n",
    "            \n",
    "    def predict(self, X):\n",
    "        predictions = []\n",
    "        for i in range(len(X)):\n",
    "            output = self.forward(X[i])\n",
    "            pred_label = int(output > 0.5)\n",
    "            predictions.append(pred_label)\n",
    "        return np.array(predictions)\n",
    "\n",
    "def sigmoid(x):\n",
    "    return 1 / (1 + np.exp(-x))\n",
    "\n",
    "def sigmoid_deriv(x):\n",
    "    return x * (1 - x)\n",
    "\n",
    "def relu(x):\n",
    "    return np.maximum(0, x)\n",
    "\n",
    "def relu_deriv(x):\n",
    "    return (x > 0).astype(float)\n",
    "\n",
    "def binary_cross_entropy(y_true, y_pred):\n",
    "    eps = 1e-9\n",
    "    return -np.mean(y_true * np.log(y_pred + eps) + (1 - y_true) * np.log(1 - y_pred + eps))\n"
   ],
   "metadata": {
    "collapsed": false,
    "ExecuteTime": {
     "end_time": "2025-05-14T16:11:39.657369700Z",
     "start_time": "2025-05-14T16:11:39.636486300Z"
    }
   },
   "id": "894d5370e5fe3330"
  },
  {
   "cell_type": "markdown",
   "source": [
    "# Train model"
   ],
   "metadata": {
    "collapsed": false
   },
   "id": "e13694f0aa0bb54a"
  },
  {
   "cell_type": "code",
   "execution_count": 26,
   "outputs": [
    {
     "name": "stderr",
     "output_type": "stream",
     "text": [
      "C:\\Users\\Alex\\AppData\\Local\\Temp\\ipykernel_16404\\2575145507.py:72: DeprecationWarning: Conversion of an array with ndim > 0 to a scalar is deprecated, and will error in future. Ensure you extract a single element from your array before performing this operation. (Deprecated NumPy 1.25.)\n",
      "  prediction = int(output > 0.5)\n"
     ]
    },
    {
     "name": "stdout",
     "output_type": "stream",
     "text": [
      "Epoch 1: Loss = 0.7048\n",
      "Epoch 2: Loss = 0.6876\n",
      "Epoch 3: Loss = 0.6690\n",
      "Epoch 4: Loss = 0.6528\n",
      "Epoch 5: Loss = 0.6383\n",
      "Epoch 6: Loss = 0.6251\n",
      "Epoch 7: Loss = 0.6129\n",
      "Epoch 8: Loss = 0.6015\n",
      "Epoch 9: Loss = 0.5908\n",
      "Epoch 10: Loss = 0.5807\n"
     ]
    }
   ],
   "source": [
    "y_train = np.array(y_train).reshape(-1, 1)\n",
    "classifier = CNN(input_shape=(100, 100, 3))\n",
    "classifier.fit(x_train_norm, y_train)"
   ],
   "metadata": {
    "collapsed": false,
    "ExecuteTime": {
     "end_time": "2025-05-14T16:14:04.105833200Z",
     "start_time": "2025-05-14T16:11:43.046749800Z"
    }
   },
   "id": "89598883d924cb1b"
  },
  {
   "cell_type": "markdown",
   "source": [
    "# Test model"
   ],
   "metadata": {
    "collapsed": false
   },
   "id": "20d705aa7f6c9bb4"
  },
  {
   "cell_type": "code",
   "execution_count": 28,
   "outputs": [
    {
     "name": "stderr",
     "output_type": "stream",
     "text": [
      "C:\\Users\\Alex\\AppData\\Local\\Temp\\ipykernel_16404\\2575145507.py:87: DeprecationWarning: Conversion of an array with ndim > 0 to a scalar is deprecated, and will error in future. Ensure you extract a single element from your array before performing this operation. (Deprecated NumPy 1.25.)\n",
      "  pred_label = int(output > 0.5)\n"
     ]
    }
   ],
   "source": [
    "y_predict = classifier.predict(x_test)"
   ],
   "metadata": {
    "collapsed": false,
    "ExecuteTime": {
     "end_time": "2025-05-14T16:14:12.802876200Z",
     "start_time": "2025-05-14T16:14:09.366165200Z"
    }
   },
   "id": "a9b719dccc25482a"
  },
  {
   "cell_type": "markdown",
   "source": [
    "# Metrics"
   ],
   "metadata": {
    "collapsed": false
   },
   "id": "15dc6a6312e56bb4"
  },
  {
   "cell_type": "code",
   "execution_count": 29,
   "outputs": [
    {
     "data": {
      "text/plain": "<Figure size 640x480 with 2 Axes>",
      "image/png": "[encoded data removed]"
     },
     "metadata": {},
     "output_type": "display_data"
    },
    {
     "name": "stdout",
     "output_type": "stream",
     "text": [
      "              precision    recall  f1-score   support\n",
      "\n",
      "       False       0.33      0.14      0.19        22\n",
      "        True       0.46      0.73      0.56        22\n",
      "\n",
      "    accuracy                           0.43        44\n",
      "   macro avg       0.40      0.43      0.38        44\n",
      "weighted avg       0.40      0.43      0.38        44\n"
     ]
    }
   ],
   "source": [
    "ConfusionMatrixDisplay(\n",
    "    confusion_matrix = confusion_matrix(\n",
    "        y_test, y_predict\n",
    "    )\n",
    ").plot(cmap=plt.cm.Purples)\n",
    "plt.show()\n",
    "\n",
    "print(classification_report(y_test, y_predict))"
   ],
   "metadata": {
    "collapsed": false,
    "ExecuteTime": {
     "end_time": "2025-05-14T16:14:16.729391Z",
     "start_time": "2025-05-14T16:14:16.538800300Z"
    }
   },
   "id": "1f5f0d2dc0a74935"
  },
  {
   "cell_type": "markdown",
   "source": [
    "# Influenta parametrilor"
   ],
   "metadata": {
    "collapsed": false
   },
   "id": "3a05c59f5bfed601"
  },
  {
   "cell_type": "markdown",
   "source": [
    "## Learning rate"
   ],
   "metadata": {
    "collapsed": false
   },
   "id": "20cbf810ddb3af81"
  },
  {
   "cell_type": "code",
   "execution_count": 31,
   "outputs": [
    {
     "data": {
      "text/plain": "<Figure size 1200x500 with 1 Axes>",
      "image/png": "[encoded data removed]"
     },
     "metadata": {},
     "output_type": "display_data"
    }
   ],
   "source": [
    "def plot_loss_history(title, history):\n",
    "    plt.figure(figsize=(12, 5))\n",
    "\n",
    "    plt.subplot(1, 2, 1)\n",
    "    plt.plot(history, label='Loss')\n",
    "    plt.title(title)\n",
    "    plt.xlabel('Epochs')\n",
    "    plt.ylabel('Loss')\n",
    "    \n",
    "    plt.tight_layout()\n",
    "    plt.show()\n",
    "    \n",
    "plot_loss_history('Loss evolution for big learning rate', classifier.loss_history)"
   ],
   "metadata": {
    "collapsed": false,
    "ExecuteTime": {
     "end_time": "2025-05-14T16:14:30.887840Z",
     "start_time": "2025-05-14T16:14:30.685493800Z"
    }
   },
   "id": "3045c86388da3ba7"
  },
  {
   "cell_type": "markdown",
   "source": [],
   "metadata": {
    "collapsed": false
   },
   "id": "30572d8eb85531f9"
  }
 ],
 "metadata": {
  "kernelspec": {
   "display_name": "Python 3",
   "language": "python",
   "name": "python3"
  },
  "language_info": {
   "codemirror_mode": {
    "name": "ipython",
    "version": 2
   },
   "file_extension": ".py",
   "mimetype": "text/x-python",
   "name": "python",
   "nbconvert_exporter": "python",
   "pygments_lexer": "ipython2",
   "version": "2.7.6"
  }
 },
 "nbformat": 4,
 "nbformat_minor": 5
}
