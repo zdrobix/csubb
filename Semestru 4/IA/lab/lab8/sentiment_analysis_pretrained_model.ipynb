{
 "cells": [
  {
   "cell_type": "code",
   "execution_count": 2,
   "id": "initial_id",
   "metadata": {
    "collapsed": true,
    "ExecuteTime": {
     "end_time": "2025-05-15T12:37:58.618142500Z",
     "start_time": "2025-05-15T12:37:57.518710800Z"
    }
   },
   "outputs": [],
   "source": [
    "import pandas as pd\n",
    "import joblib\n",
    "import re"
   ]
  },
  {
   "cell_type": "markdown",
   "source": [
    "# Utils"
   ],
   "metadata": {
    "collapsed": false
   },
   "id": "53750edad4a5c783"
  },
  {
   "cell_type": "code",
   "execution_count": 5,
   "outputs": [],
   "source": [
    "def clean_data(review):\n",
    "    if isinstance(review, str):\n",
    "        no_punc = re.sub(r'[^\\w\\s]', '', review)\n",
    "        return ''.join([i for i in no_punc if not i.isdigit()])\n",
    "    return ''\n",
    "\n",
    "def load_model(filename):\n",
    "    model, vectorizer = joblib.load(filename)\n",
    "    return model, vectorizer\n",
    "\n",
    "emotions = [\n",
    "    'sadness',\n",
    "    'joy',\n",
    "    'love', \n",
    "    'anger', \n",
    "    'fear',\n",
    "    'surprise'\n",
    "]"
   ],
   "metadata": {
    "collapsed": false,
    "ExecuteTime": {
     "end_time": "2025-05-15T12:40:03.572407400Z",
     "start_time": "2025-05-15T12:40:03.563220600Z"
    }
   },
   "id": "279f0d9a4ede4fba"
  },
  {
   "cell_type": "markdown",
   "source": [
    "# Run model"
   ],
   "metadata": {
    "collapsed": false
   },
   "id": "d1060c57bbd9844e"
  },
  {
   "cell_type": "code",
   "execution_count": 6,
   "outputs": [
    {
     "name": "stdout",
     "output_type": "stream",
     "text": [
      "Predicted emotion:  joy\n"
     ]
    }
   ],
   "source": [
    "model, vectorizer = load_model('./models/85-62_logistic_regression_model.pkl')\n",
    "\n",
    "phrase = 'By choosing a bike over a car, I’m reducing my environmental footprint. Cycling promotes eco-friendly transportation, and I’m proud to be part of that movement..'\n",
    "\n",
    "new_data = pd.DataFrame({'text': [phrase]})\n",
    "new_data['text'] = new_data['text'].apply(clean_data)\n",
    "\n",
    "x_new = vectorizer.transform(new_data['text'])\n",
    "\n",
    "predictions = model.predict(x_new)\n",
    "\n",
    "print(\"Predicted emotion: \", emotions[predictions[0]])"
   ],
   "metadata": {
    "collapsed": false,
    "ExecuteTime": {
     "end_time": "2025-05-15T12:40:07.645109200Z",
     "start_time": "2025-05-15T12:40:06.238111400Z"
    }
   },
   "id": "ffbb0fbd132767a5"
  }
 ],
 "metadata": {
  "kernelspec": {
   "display_name": "Python 3",
   "language": "python",
   "name": "python3"
  },
  "language_info": {
   "codemirror_mode": {
    "name": "ipython",
    "version": 2
   },
   "file_extension": ".py",
   "mimetype": "text/x-python",
   "name": "python",
   "nbconvert_exporter": "python",
   "pygments_lexer": "ipython2",
   "version": "2.7.6"
  }
 },
 "nbformat": 4,
 "nbformat_minor": 5
}
