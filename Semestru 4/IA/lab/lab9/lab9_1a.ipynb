{
 "cells": [
  {
   "cell_type": "code",
   "execution_count": 2,
   "id": "initial_id",
   "metadata": {
    "collapsed": true,
    "ExecuteTime": {
     "end_time": "2025-05-16T06:59:43.981509500Z",
     "start_time": "2025-05-16T06:59:43.973420600Z"
    }
   },
   "outputs": [],
   "source": [
    "from transformers import GPT2LMHeadModel, GPT2Tokenizer\n",
    "import torch"
   ]
  },
  {
   "cell_type": "code",
   "execution_count": 3,
   "outputs": [
    {
     "data": {
      "text/plain": "tokenizer_config.json:   0%|          | 0.00/26.0 [00:00<?, ?B/s]",
      "application/vnd.jupyter.widget-view+json": {
       "version_major": 2,
       "version_minor": 0,
       "model_id": "7608cb34905f45e68d285c2e4e900c89"
      }
     },
     "metadata": {},
     "output_type": "display_data"
    },
    {
     "name": "stderr",
     "output_type": "stream",
     "text": [
      "Q:\\info\\Python\\lab9\\Lib\\site-packages\\huggingface_hub\\file_download.py:143: UserWarning: `huggingface_hub` cache-system uses symlinks by default to efficiently store duplicated files but your machine does not support them in C:\\Users\\Alex\\.cache\\huggingface\\hub\\models--gpt2. Caching files will still work but in a degraded version that might require more space on your disk. This warning can be disabled by setting the `HF_HUB_DISABLE_SYMLINKS_WARNING` environment variable. For more details, see https://huggingface.co/docs/huggingface_hub/how-to-cache#limitations.\n",
      "To support symlinks on Windows, you either need to activate Developer Mode or to run Python as an administrator. In order to activate developer mode, see this article: https://docs.microsoft.com/en-us/windows/apps/get-started/enable-your-device-for-development\n",
      "  warnings.warn(message)\n"
     ]
    },
    {
     "data": {
      "text/plain": "vocab.json:   0%|          | 0.00/1.04M [00:00<?, ?B/s]",
      "application/vnd.jupyter.widget-view+json": {
       "version_major": 2,
       "version_minor": 0,
       "model_id": "d7fe40359fc849d5a85b896ea9a45197"
      }
     },
     "metadata": {},
     "output_type": "display_data"
    },
    {
     "data": {
      "text/plain": "merges.txt:   0%|          | 0.00/456k [00:00<?, ?B/s]",
      "application/vnd.jupyter.widget-view+json": {
       "version_major": 2,
       "version_minor": 0,
       "model_id": "55e0b99104e34bb3822784e51070c452"
      }
     },
     "metadata": {},
     "output_type": "display_data"
    },
    {
     "data": {
      "text/plain": "tokenizer.json:   0%|          | 0.00/1.36M [00:00<?, ?B/s]",
      "application/vnd.jupyter.widget-view+json": {
       "version_major": 2,
       "version_minor": 0,
       "model_id": "2ef51b5cec3044d5bbb824dd593130ba"
      }
     },
     "metadata": {},
     "output_type": "display_data"
    },
    {
     "data": {
      "text/plain": "config.json:   0%|          | 0.00/665 [00:00<?, ?B/s]",
      "application/vnd.jupyter.widget-view+json": {
       "version_major": 2,
       "version_minor": 0,
       "model_id": "3667888105c342c88f3dd9a5fb56a7ed"
      }
     },
     "metadata": {},
     "output_type": "display_data"
    },
    {
     "name": "stderr",
     "output_type": "stream",
     "text": [
      "Xet Storage is enabled for this repo, but the 'hf_xet' package is not installed. Falling back to regular HTTP download. For better performance, install the package with: `pip install huggingface_hub[hf_xet]` or `pip install hf_xet`\n"
     ]
    },
    {
     "data": {
      "text/plain": "model.safetensors:   0%|          | 0.00/548M [00:00<?, ?B/s]",
      "application/vnd.jupyter.widget-view+json": {
       "version_major": 2,
       "version_minor": 0,
       "model_id": "b5ead3e64a224f70895b85052e6c6faa"
      }
     },
     "metadata": {},
     "output_type": "display_data"
    },
    {
     "data": {
      "text/plain": "generation_config.json:   0%|          | 0.00/124 [00:00<?, ?B/s]",
      "application/vnd.jupyter.widget-view+json": {
       "version_major": 2,
       "version_minor": 0,
       "model_id": "be328d5cc75d42a8a73dc0a5c98cecd4"
      }
     },
     "metadata": {},
     "output_type": "display_data"
    }
   ],
   "source": [
    "model_name = \"gpt2\"\n",
    "tokenizer = GPT2Tokenizer.from_pretrained(model_name)\n",
    "model = GPT2LMHeadModel.from_pretrained(model_name)"
   ],
   "metadata": {
    "collapsed": false,
    "ExecuteTime": {
     "end_time": "2025-05-16T07:00:13.183569900Z",
     "start_time": "2025-05-16T06:59:45.080726200Z"
    }
   },
   "id": "1ac760641a864a2b"
  },
  {
   "cell_type": "code",
   "execution_count": 8,
   "outputs": [
    {
     "name": "stderr",
     "output_type": "stream",
     "text": [
      "The attention mask and the pad token id were not set. As a consequence, you may observe unexpected behavior. Please pass your input's `attention_mask` to obtain reliable results.\n",
      "Setting `pad_token_id` to `eos_token_id`:50256 for open-end generation.\n"
     ]
    }
   ],
   "source": [
    "verse = ('Continue writing this poem:'\n",
    "         'From fairest creatures we desire increase,')\n",
    "input_ids = tokenizer.encode(verse, return_tensors=\"pt\")\n",
    "output = model.generate(\n",
    "    input_ids,\n",
    "    max_length=500,\n",
    "    temperature=0.7,  \n",
    "    top_k=500,         \n",
    "    top_p=0.9,         \n",
    "    do_sample=True,   \n",
    "    num_return_sequences=1\n",
    ")\n",
    "print(tokenizer.decode(output[0], skip_special_tokens=True))"
   ],
   "metadata": {
    "collapsed": false,
    "ExecuteTime": {
     "end_time": "2025-05-16T07:03:15.847596500Z",
     "start_time": "2025-05-16T07:02:39.952954600Z"
    }
   },
   "id": "82d94e061e8e4893"
  },
  {
   "cell_type": "markdown",
   "source": [
    "# Poem 1\n",
    "From fairest creatures we desire increase,  \n",
    "and we seek to make ourselves better, \n",
    "that we may be free, \n",
    "and we may live in harmony with ourselves.\n",
    "And to you, my beloved, and to the people of Israel, \n",
    "I say, when you are in our midst, \n",
    "we rejoice, and we sing our praises.\n",
    "And I say unto you, that you may be free from all that you do, \n",
    "and from all that you do not do, \n",
    "and from all that you do not do, \n",
    "and from all that you do not do, \n",
    "and from all that you do not do, \n",
    "and from all that you do not do, \n",
    "and from all that you do not do, \n",
    "and from all that you do not do, \n",
    "and from all that you do not do, \n",
    "and from all that you do not do, \n",
    "and from all that you do not do, \n",
    "and from all that you do not do, \n",
    "and from all that you do not do, \n",
    "and from all that you do not do, \n",
    "and from all that you do not do, \n",
    "and from all that you do not do, \n",
    "and from all that you do not do, \n",
    "and from all that you do not do, \n",
    "and from all that you do not do, \n",
    "and from all that you do not do"
   ],
   "metadata": {
    "collapsed": false
   },
   "id": "1be88cba2ea4848e"
  },
  {
   "cell_type": "code",
   "execution_count": 10,
   "outputs": [
    {
     "name": "stderr",
     "output_type": "stream",
     "text": [
      "The attention mask and the pad token id were not set. As a consequence, you may observe unexpected behavior. Please pass your input's `attention_mask` to obtain reliable results.\n",
      "Setting `pad_token_id` to `eos_token_id`:50256 for open-end generation.\n"
     ]
    },
    {
     "name": "stdout",
     "output_type": "stream",
     "text": [
      "Continue writing this poem:From fairest creatures we desire increase,\n",
      "\n",
      "That we should live, and for all that a man shall see,\n",
      "\n",
      "Than to the greatest things there is of the world.A verse from the beginning of this poem, by Astrid, which was composed in this world, or at any rate from the time when we think of the world, was attributed to King Anastasis of the Othmenes by Anastasis, which, to quote a passage in his works of Verse, it would appear that it was, or is, from the beginning of this verse, which was attributed to King Anastasis of the Othmenes, or at any rate, that is to say, from the time when we think of the world. Anastasis (from Latin, ar-sinus, from Proto-Indo-European *lare, from Proto-Indo-European *noc-, N. E. oar), says that King Anastasis \"converted all creation to itself\" by \"doing and acting in accordance with it, without self-understanding, of its own will,\" and thus began to \"get rid of the existence of any thing that could not be carried out,\" before proceeding to \"to destroy all, of all things.\" We have to remember that he did not start from \"creature to being,\" but rather, \"from the beginning of all, that exists, and that which was, from its beginning,\" so that from him everything became the first thing that existed, which he made. That he is of the same order, from this beginning that we should go before us, as we are here. It was through him that all began.\n"
     ]
    }
   ],
   "source": [
    "verse = ('Continue writing this poem:'\n",
    "         'From fairest creatures we desire increase,')\n",
    "input_ids = tokenizer.encode(verse, return_tensors=\"pt\")\n",
    "output = model.generate(\n",
    "    input_ids,\n",
    "    max_length=500,\n",
    "    temperature=1.1,  \n",
    "    top_k=120,         \n",
    "    top_p=0.8,         \n",
    "    do_sample=True,   \n",
    "    num_return_sequences=1\n",
    ")\n",
    "print(tokenizer.decode(output[0], skip_special_tokens=True))"
   ],
   "metadata": {
    "collapsed": false,
    "ExecuteTime": {
     "end_time": "2025-05-16T07:06:40.488588400Z",
     "start_time": "2025-05-16T07:06:13.769843600Z"
    }
   },
   "id": "70330b9ca1d39e4"
  },
  {
   "cell_type": "markdown",
   "source": [
    "# Poem 2\n",
    "From fairest creatures we desire increase,\n",
    "That we should live, and for all that a man shall see,\n",
    "Than to the greatest things there is of the world.\n",
    "A verse from the beginning of this poem, by Astrid,\n",
    "which was composed in this world, \n",
    "or at any rate from the time when we think of the world, \n",
    "was attributed to King Anastasis of the Othmenes by Anastasis, \n",
    "which, to quote a passage in his works of Verse, \n",
    "it would appear that it was, or is, \n",
    "from the beginning of this verse, \n",
    "which was attributed to King Anastasis of the Othmenes, \n",
    "or at any rate, that is to say, \n",
    "from the time when we think of the world. \n",
    "Anastasis (from Latin, ar-sinus, from Proto-Indo-European *lare, from Proto-Indo-European *noc-, N. E. oar), \n",
    "says that King Anastasis \"converted all creation to itself\" by \"doing and acting in accordance with it, without self-understanding, of its own will,\" and thus began to \"get rid of the existence of any thing that could not be carried out,\" before proceeding to \"to destroy all, of all things.\" We have to remember that he did not start from \"creature to being,\" but rather, \"from the beginning of all, that exists, and that which was, from its beginning,\" so that from him everything became the first thing that existed, which he made. That he is of the same order, from this beginning that we should go before us, as we are here. It was through him that all began."
   ],
   "metadata": {
    "collapsed": false
   },
   "id": "11def51c8312d65b"
  },
  {
   "cell_type": "code",
   "execution_count": 11,
   "outputs": [
    {
     "name": "stderr",
     "output_type": "stream",
     "text": [
      "The attention mask and the pad token id were not set. As a consequence, you may observe unexpected behavior. Please pass your input's `attention_mask` to obtain reliable results.\n",
      "Setting `pad_token_id` to `eos_token_id`:50256 for open-end generation.\n"
     ]
    },
    {
     "name": "stdout",
     "output_type": "stream",
     "text": [
      "Continue writing this poem:From fairest creatures we desire increase, from what we fear will fail us to greater heights...The time I had with thee is past these walls and yet thou hast stood true. (Prisse 1 and 2)\n"
     ]
    }
   ],
   "source": [
    "verse = ('Continue writing this poem:'\n",
    "         'From fairest creatures we desire increase,')\n",
    "input_ids = tokenizer.encode(verse, return_tensors=\"pt\")\n",
    "output = model.generate(\n",
    "    input_ids,\n",
    "    max_length=500,\n",
    "    temperature=1.3,  \n",
    "    top_k=80,         \n",
    "    top_p=1.1,         \n",
    "    do_sample=True,   \n",
    "    num_return_sequences=1\n",
    ")\n",
    "print(tokenizer.decode(output[0], skip_special_tokens=True))"
   ],
   "metadata": {
    "collapsed": false,
    "ExecuteTime": {
     "end_time": "2025-05-16T07:09:15.010518800Z",
     "start_time": "2025-05-16T07:09:12.077133Z"
    }
   },
   "id": "888071dbb9d68d28"
  },
  {
   "cell_type": "markdown",
   "source": [
    "# Poem 3\n",
    "From fairest creatures we desire increase, \n",
    "from what we fear will fail us to greater heights...\n",
    "The time I had with thee is past these walls and yet thou hast stood true. (Prisse 1 and 2)"
   ],
   "metadata": {
    "collapsed": false
   },
   "id": "f07c2fd3274ac97c"
  },
  {
   "cell_type": "code",
   "execution_count": 12,
   "outputs": [
    {
     "name": "stderr",
     "output_type": "stream",
     "text": [
      "The attention mask and the pad token id were not set. As a consequence, you may observe unexpected behavior. Please pass your input's `attention_mask` to obtain reliable results.\n",
      "Setting `pad_token_id` to `eos_token_id`:50256 for open-end generation.\n"
     ]
    },
    {
     "name": "stdout",
     "output_type": "stream",
     "text": [
      "Continua sa scrii poezia:Am crescut? Suntem oameni maturi? Lengam dolor, si stila spani laguna? Amico, quis sopsato:Toglia alas una tui, con noch si si sa te sei nostris vila. [Chica vol. II:8; secs.] See te vi per runtum no sici, erat de tengo dota. Pluir tigos oli hao! Noli e tingutam haos, sind hau a lugar haon e una te rasco si, e estuante ses que nolo ette estim peare hale sa ome: Estelle le tutate sa haile! En ila tupelo! Elis a tavuto i lo vita est una nuestro ces. En a cria cuare verbo sui accusa. Amico, tengo, aliam te rie seul: En riencio e al vida, mi al umber una rocho vida: Agui et la mane lo quem puesas, que sia oli quel que pello ne te sape me cri vita. Se pronto ji pella me foude, et pella jia que cada. Pausando noi te me del collegido, l'homo del collegio, e a il n'outi rarro vito: Dantabato di se sordro verda. Arte l'histoire oportru. Quando la mane, con gauda al mi cero: Agui qui quinam olo amigantur a scandros, te uo adario mais me le viet. Muro vatando me entranti suertezza. Sombro o ella de si ne si. Raimondo pours scandrolari di tupelo, fuese se tuta el vida: Agui et mi suetata, en una comandante ne mio su entre scorio. Una voiture l'influo vivo: Estor pendanta le maneguito di salire\n"
     ]
    }
   ],
   "source": [
    "verse = ('Continua sa scrii poezia:'\n",
    "         'Am crescut? Suntem oameni maturi?')\n",
    "input_ids = tokenizer.encode(verse, return_tensors=\"pt\")\n",
    "output = model.generate(\n",
    "    input_ids,\n",
    "    max_length=500,\n",
    "    temperature=1.3,  \n",
    "    top_k=80,         \n",
    "    top_p=1.1,         \n",
    "    do_sample=True,   \n",
    "    num_return_sequences=1\n",
    ")\n",
    "print(tokenizer.decode(output[0], skip_special_tokens=True))"
   ],
   "metadata": {
    "collapsed": false,
    "ExecuteTime": {
     "end_time": "2025-05-16T07:13:33.928237500Z",
     "start_time": "2025-05-16T07:13:02.115413900Z"
    }
   },
   "id": "5065b3ebc7eedb73"
  },
  {
   "cell_type": "markdown",
   "source": [
    "# Poem 4\n",
    "Am crescut? Suntem oameni maturi? \n",
    "Lengam dolor, si stila spani laguna? \n",
    "Amico, quis sopsato:Toglia alas una tui, \n",
    "con noch si si sa te sei nostris vila. \n",
    "[Chica vol. II:8; secs.] See te vi per runtum no sici, \n",
    "erat de tengo dota. \n",
    "Pluir tigos oli hao! Noli e tingutam haos, \n",
    "sind hau a lugar haon e una te rasco si, e estuante ses que nolo ette estim peare hale sa ome: Estelle le tutate sa haile! En ila tupelo! Elis a tavuto i lo vita est una nuestro ces. En a cria cuare verbo sui accusa. Amico, tengo, aliam te rie seul: En riencio e al vida, mi al umber una rocho vida: Agui et la mane lo quem puesas, que sia oli quel que pello ne te sape me cri vita. Se pronto ji pella me foude, et pella jia que cada. Pausando noi te me del collegido, l'homo del collegio, e a il n'outi rarro vito: Dantabato di se sordro verda. Arte l'histoire oportru. Quando la mane, con gauda al mi cero: Agui qui quinam olo amigantur a scandros, te uo adario mais me le viet. Muro vatando me entranti suertezza. Sombro o ella de si ne si. Raimondo pours scandrolari di tupelo, fuese se tuta el vida: Agui et mi suetata, en una comandante ne mio su entre scorio. Una voiture l'influo vivo: Estor pendanta le maneguito di salire"
   ],
   "metadata": {
    "collapsed": false
   },
   "id": "b07c218163543561"
  }
 ],
 "metadata": {
  "kernelspec": {
   "display_name": "Python 3",
   "language": "python",
   "name": "python3"
  },
  "language_info": {
   "codemirror_mode": {
    "name": "ipython",
    "version": 2
   },
   "file_extension": ".py",
   "mimetype": "text/x-python",
   "name": "python",
   "nbconvert_exporter": "python",
   "pygments_lexer": "ipython2",
   "version": "2.7.6"
  }
 },
 "nbformat": 4,
 "nbformat_minor": 5
}
