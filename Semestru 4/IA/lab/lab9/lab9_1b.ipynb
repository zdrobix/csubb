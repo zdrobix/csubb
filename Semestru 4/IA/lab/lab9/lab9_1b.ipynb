{
 "cells": [
  {
   "cell_type": "code",
   "execution_count": 18,
   "id": "initial_id",
   "metadata": {
    "collapsed": true,
    "ExecuteTime": {
     "end_time": "2025-05-16T07:35:20.789155400Z",
     "start_time": "2025-05-16T07:35:20.559327900Z"
    }
   },
   "outputs": [],
   "source": [
    "import pandas as pd\n",
    "from datasets import load_dataset\n",
    "from transformers import GPT2Tokenizer\n",
    "from transformers import GPT2LMHeadModel\n",
    "from transformers import GPT2LMHeadModel, Trainer, TrainingArguments"
   ]
  },
  {
   "cell_type": "code",
   "execution_count": 10,
   "outputs": [
    {
     "data": {
      "text/plain": "README.md:   0%|          | 0.00/1.15k [00:00<?, ?B/s]",
      "application/vnd.jupyter.widget-view+json": {
       "version_major": 2,
       "version_minor": 0,
       "model_id": "938b7dfe47d04dc7b425b8cb50570978"
      }
     },
     "metadata": {},
     "output_type": "display_data"
    },
    {
     "name": "stderr",
     "output_type": "stream",
     "text": [
      "Q:\\info\\Python\\lab9\\Lib\\site-packages\\huggingface_hub\\file_download.py:143: UserWarning: `huggingface_hub` cache-system uses symlinks by default to efficiently store duplicated files but your machine does not support them in C:\\Users\\Alex\\.cache\\huggingface\\hub\\datasets--biglam--gutenberg-poetry-corpus. Caching files will still work but in a degraded version that might require more space on your disk. This warning can be disabled by setting the `HF_HUB_DISABLE_SYMLINKS_WARNING` environment variable. For more details, see https://huggingface.co/docs/huggingface_hub/how-to-cache#limitations.\n",
      "To support symlinks on Windows, you either need to activate Developer Mode or to run Python as an administrator. In order to activate developer mode, see this article: https://docs.microsoft.com/en-us/windows/apps/get-started/enable-your-device-for-development\n",
      "  warnings.warn(message)\n"
     ]
    },
    {
     "data": {
      "text/plain": "dataset_infos.json:   0%|          | 0.00/903 [00:00<?, ?B/s]",
      "application/vnd.jupyter.widget-view+json": {
       "version_major": 2,
       "version_minor": 0,
       "model_id": "a12ba65d697c4269b657c0e592aa719c"
      }
     },
     "metadata": {},
     "output_type": "display_data"
    },
    {
     "name": "stderr",
     "output_type": "stream",
     "text": [
      "Xet Storage is enabled for this repo, but the 'hf_xet' package is not installed. Falling back to regular HTTP download. For better performance, install the package with: `pip install huggingface_hub[hf_xet]` or `pip install hf_xet`\n"
     ]
    },
    {
     "data": {
      "text/plain": "(…)-00000-of-00001-fa9fb9e1f16eed7e.parquet:   0%|          | 0.00/91.1M [00:00<?, ?B/s]",
      "application/vnd.jupyter.widget-view+json": {
       "version_major": 2,
       "version_minor": 0,
       "model_id": "4a2f96f7464c4c288ea1f48f8e26953d"
      }
     },
     "metadata": {},
     "output_type": "display_data"
    },
    {
     "data": {
      "text/plain": "Generating train split:   0%|          | 0/3085117 [00:00<?, ? examples/s]",
      "application/vnd.jupyter.widget-view+json": {
       "version_major": 2,
       "version_minor": 0,
       "model_id": "406e9cc606854effbae4039cf88f06ea"
      }
     },
     "metadata": {},
     "output_type": "display_data"
    }
   ],
   "source": [
    "dataset = load_dataset(\"biglam/gutenberg-poetry-corpus\")"
   ],
   "metadata": {
    "collapsed": false,
    "ExecuteTime": {
     "end_time": "2025-05-16T07:21:21.966939400Z",
     "start_time": "2025-05-16T07:21:09.133870300Z"
    }
   },
   "id": "4c7530f441a88332"
  },
  {
   "cell_type": "code",
   "execution_count": 14,
   "outputs": [],
   "source": [
    "model_name = \"gpt2\"\n",
    "tokenizer = GPT2Tokenizer.from_pretrained(model_name)\n",
    "tokenizer.pad_token = tokenizer.eos_token"
   ],
   "metadata": {
    "collapsed": false,
    "ExecuteTime": {
     "end_time": "2025-05-16T07:22:42.482861Z",
     "start_time": "2025-05-16T07:22:42.130293300Z"
    }
   },
   "id": "fc8b8bc170c774d1"
  },
  {
   "cell_type": "markdown",
   "source": [
    "# Tokenize dataset"
   ],
   "metadata": {
    "collapsed": false
   },
   "id": "863f468e9e7bc204"
  },
  {
   "cell_type": "code",
   "execution_count": 17,
   "outputs": [
    {
     "data": {
      "text/plain": "Map:   0%|          | 0/3085117 [00:00<?, ? examples/s]",
      "application/vnd.jupyter.widget-view+json": {
       "version_major": 2,
       "version_minor": 0,
       "model_id": "08fb8df846e44168b30dea26369a47ce"
      }
     },
     "metadata": {},
     "output_type": "display_data"
    }
   ],
   "source": [
    "def tokenize(example):\n",
    "    return tokenizer(example[\"line\"], padding=\"max_length\", truncation=True, max_length=128)\n",
    "\n",
    "tokenized_dataset = dataset[\"train\"].map(tokenize, batched=True)"
   ],
   "metadata": {
    "collapsed": false,
    "ExecuteTime": {
     "end_time": "2025-05-16T07:32:47.412582800Z",
     "start_time": "2025-05-16T07:23:43.763594500Z"
    }
   },
   "id": "a3e2fb0634f0c274"
  },
  {
   "cell_type": "markdown",
   "source": [
    "# Fine tunning"
   ],
   "metadata": {
    "collapsed": false
   },
   "id": "f7666bba9178eb58"
  },
  {
   "cell_type": "code",
   "execution_count": 19,
   "outputs": [],
   "source": [
    "model = GPT2LMHeadModel.from_pretrained(model_name)\n",
    "model.resize_token_embeddings(len(tokenizer))\n",
    "model.config.pad_token_id = tokenizer.eos_token_id"
   ],
   "metadata": {
    "collapsed": false,
    "ExecuteTime": {
     "end_time": "2025-05-16T07:35:24.233419Z",
     "start_time": "2025-05-16T07:35:23.238920200Z"
    }
   },
   "id": "178919bde0035f86"
  },
  {
   "cell_type": "code",
   "execution_count": 20,
   "outputs": [
    {
     "name": "stderr",
     "output_type": "stream",
     "text": [
      "The attention mask and the pad token id were not set. As a consequence, you may observe unexpected behavior. Please pass your input's `attention_mask` to obtain reliable results.\n",
      "Setting `pad_token_id` to `eos_token_id`:50256 for open-end generation.\n",
      "The attention mask is not set and cannot be inferred from input because pad token is same as eos token. As a consequence, you may observe unexpected behavior. Please pass your input's `attention_mask` to obtain reliable results.\n"
     ]
    },
    {
     "name": "stdout",
     "output_type": "stream",
     "text": [
      "Continue writing this poem:From fairest creatures we desire increase,From fairest creatures we desire to be,From fairest creatures we desire to be,And so we shall continue our long journey,And so we shall die in the land of the living,And so we shall live in the land of the dead,And so we shall die in the land of the dead,And so we shall live in the land of the living,And so we shall live in the land of the living,And so we shall live in the land of the living,And so we shall live in the land of the living,And so we shall live in the land of the living,And so we shall live in the land of the living,And so we shall live in the land of the living,And so we shall live in the land of the living,And so we shall live in the land of the living,And so we shall live in the land of the living,And so we shall live in the land of the living,And so we shall live in the land of the living,And so we shall live in the land of the living,And so we shall live in the land of the living,And so we shall live in the land of the living,And so we shall live in the land of the living,And so we shall live in the land of the living,And so we shall live in the land of the living,And so we shall live in the land of the living,And so we shall live in the land of the living,And so we shall live in the land of the living,And so we shall live in the land of the living,And so we shall live in the land of the living,And so we shall live in the land of the living,And so we shall live in the land of the living,And so we shall live in the land of the living,And so we shall live in the land of the living,And so we shall live in the land of the living,And so we shall live in the land of the living,And so we shall live in the land of the living,And so we shall live in the land of the living,And so we shall live in the land of the living,And so we shall live in the land of the living,And so we shall live in the land of the living,And so we shall live in the land of the living,And so we shall\n"
     ]
    }
   ],
   "source": [
    "verse = ('Continue writing this poem:'\n",
    "         'From fairest creatures we desire increase,')\n",
    "input_ids = tokenizer.encode(verse, return_tensors=\"pt\")\n",
    "output = model.generate(\n",
    "    input_ids,\n",
    "    max_length=500,\n",
    "    temperature=0.7,  \n",
    "    top_k=500,         \n",
    "    top_p=0.9,         \n",
    "    do_sample=True,   \n",
    "    num_return_sequences=1\n",
    ")\n",
    "print(tokenizer.decode(output[0], skip_special_tokens=True))"
   ],
   "metadata": {
    "collapsed": false,
    "ExecuteTime": {
     "end_time": "2025-05-16T07:36:06.593228Z",
     "start_time": "2025-05-16T07:35:27.960613300Z"
    }
   },
   "id": "223aba583438ec3a"
  },
  {
   "cell_type": "markdown",
   "source": [
    "# Poem 1\n",
    "\n",
    "From fairest creatures we desire increase,\n",
    "From fairest creatures we desire to be,\n",
    "From fairest creatures we desire to be,\n",
    "And so we shall continue our long journey,\n",
    "And so we shall die in the land of the living,\n",
    "And so we shall live in the land of the dead,\n",
    "And so we shall die in the land of the dead,\n",
    "And so we shall live in the land of the living,\n",
    "And so we shall live in the land of the living,\n",
    "And so we shall live in the land of the living,\n",
    "And so we shall live in the land of the living,\n",
    "And so we shall live in the land of the living,\n",
    "And so we shall live in the land of the living,\n",
    "And so we shall live in the land of the living,\n",
    "And so we shall live in the land of the living,\n",
    "And so we shall live in the land of the living,\n",
    "And so we shall live in the land of the living,\n",
    "And so we shall live in the land of the living,\n",
    "And so we shall live in the land of the living,\n",
    "And so we shall live in the land of the living"
   ],
   "metadata": {
    "collapsed": false
   },
   "id": "9041339ec30ade5d"
  },
  {
   "cell_type": "code",
   "execution_count": 21,
   "outputs": [
    {
     "name": "stderr",
     "output_type": "stream",
     "text": [
      "The attention mask and the pad token id were not set. As a consequence, you may observe unexpected behavior. Please pass your input's `attention_mask` to obtain reliable results.\n",
      "Setting `pad_token_id` to `eos_token_id`:50256 for open-end generation.\n"
     ]
    },
    {
     "name": "stdout",
     "output_type": "stream",
     "text": [
      "Continue writing this poem:From fairest creatures we desire increase,From animals we love decreaseIn this world we must see, and make our ways into that world.For the man who is to be ruled will be rule.Let the voice of those that shall not listen be my calling.To rule my people will be my name.\"\"In sooth, my lord, I am called from here to prepare the way for them to come\" ―Siegfried King\n",
      "\n",
      "Siegfried King\n",
      "\n",
      "Siegfried King's battle cry is \"For The One with His Eyes Open.\" The name of his power has been changed, but his motto is still \"I am only who can bring the Light of truth.\"\n",
      "\n",
      "Biography [ edit ]\n",
      "\n",
      "Early life [ edit ]\n",
      "\n",
      "\"I grew up in a family of women. Our father did a lot for me. I grew up as a woman in the family in which I came. Then my father made the family. My grandfather worked hard to give my mother an inheritance. After my mother passed away, I was raised by my parents to love and follow the family values of the community. And by doing this, I'm called by the same name. When I'm at work, my mother often takes me with her. When I'm home, my father would often make sure to send me to his home where I can help them. They are all strong. I believe my spirit will not be broken in the end, but I'll just keep doing what I do to try and bring peace. The love of my mother and the desire of the family will continue to help me grow into my right mind and my right body.\" ―Siegfried King\n",
      "\n",
      "He first got into the light when he started studying at the St. Francis Xavier Academy of Philosophy. His first major project was writing poetry for an art journal and then he started working on his writing.\n",
      "\n",
      "He later received his Ph.D. in writing from the Institute for Oriental Studies in London. After graduation, he began teaching English for a few years.\n",
      "\n",
      "He taught for several years at the University of Chicago, then took over the course of his career at Northwestern University. After the War he left Northwestern and founded the school of thought that is known as St. Francis Xavier Academy.\n",
      "\n",
      "In 1923 he taught as a poet at Harvard University, writing poetry, composition and composition in a journal called The Quarterly Journal of his College of Letters\n"
     ]
    }
   ],
   "source": [
    "verse = ('Continue writing this poem:'\n",
    "         'From fairest creatures we desire increase,')\n",
    "input_ids = tokenizer.encode(verse, return_tensors=\"pt\")\n",
    "output = model.generate(\n",
    "    input_ids,\n",
    "    max_length=500,\n",
    "    temperature=1.1,  \n",
    "    top_k=120,         \n",
    "    top_p=0.8,         \n",
    "    do_sample=True,   \n",
    "    num_return_sequences=1\n",
    ")\n",
    "print(tokenizer.decode(output[0], skip_special_tokens=True))"
   ],
   "metadata": {
    "collapsed": false,
    "ExecuteTime": {
     "end_time": "2025-05-16T07:37:40.668279100Z",
     "start_time": "2025-05-16T07:37:06.761168800Z"
    }
   },
   "id": "5e58d6d11d2ef048"
  },
  {
   "cell_type": "markdown",
   "source": [
    "# Poem 2\n",
    "\n",
    "From fairest creatures we desire increase,\n",
    "From animals we love decrease\n",
    "In this world we must see, \n",
    "and make our ways into that world.\n",
    "For the man who is to be ruled will be rule.\n",
    "Let the voice of those that shall not listen be my calling.\n",
    "To rule my people will be my name.\n",
    "\"\"In sooth, my lord, I am called from here to prepare the way for them to come\" ―Siegfried King"
   ],
   "metadata": {
    "collapsed": false
   },
   "id": "97e6dd0e941871c0"
  },
  {
   "cell_type": "code",
   "execution_count": 22,
   "outputs": [
    {
     "name": "stderr",
     "output_type": "stream",
     "text": [
      "The attention mask and the pad token id were not set. As a consequence, you may observe unexpected behavior. Please pass your input's `attention_mask` to obtain reliable results.\n",
      "Setting `pad_token_id` to `eos_token_id`:50256 for open-end generation.\n"
     ]
    },
    {
     "name": "stdout",
     "output_type": "stream",
     "text": [
      "Continue writing this poem:From fairest creatures we desire increase, our best of love we hold lowFor those to cherish are who we turn away,It's those of us who will be destroyed, those on the margin who turn to none for strength,Their tears meet your sorrows, We wish for comfort, where we hope they may not ceaseThis is my best:Now a thousand tears of mine love me and I will do as I should,For nothing can tear what I shall love or how I shall love,And that as I grow over-bearing,The sorrows of others remain the mineAnd still I long upon tears when I dieNow I wish I might become nothing but a light;And even unto this matter it may I ask Of my heart what shall go in My heart.\"Oh, what is it we call them (i.e. words by me)--there was never anything like that at Rosh Hazleton the other night (to-day). Those who wrote the first poem for our group in \"the poem on her, \"have it said that 'I like her, her sister is to love me no more'. In the 'book containing a short hymn' to Queen Eloise Weave (dated June 8, 1883), a number appears first in an opening in which, while she holds hands with her daughter and mother with her father-in-law:I imagine you don't have any idea Of his name, but I would guess it's the title because its title is 'and not' and it probably could be my sister since there isn't anyone, except maybe our three eldest daughters, right now, a close family friend, we're quite friends with so I'd guess they're pretty tight. We've all sort of shared certain things since the \"The Ode that You Shocked The World: A Memoir of Myself\" was published, we all remember him writing it and then getting carried away,I think we only saw a book about the same name from an Ode, which was created \"before\" the fall of my beloved father and she would've been the new father. At 10, there appear five poems with lyrics like this one, so that's about a three: I wish I may never learn this\n",
      "\n",
      "The two brothers my hands that I hold like lightning through on myself\n",
      "\n",
      "And she like one hundred miles a day don't break out too badly\n",
      "\n",
      "\n",
      "The night of my husband,\n"
     ]
    }
   ],
   "source": [
    "verse = ('Continue writing this poem:'\n",
    "         'From fairest creatures we desire increase,')\n",
    "input_ids = tokenizer.encode(verse, return_tensors=\"pt\")\n",
    "output = model.generate(\n",
    "    input_ids,\n",
    "    max_length=500,\n",
    "    temperature=1.3,  \n",
    "    top_k=80,         \n",
    "    top_p=1.1,         \n",
    "    do_sample=True,   \n",
    "    num_return_sequences=1\n",
    ")\n",
    "print(tokenizer.decode(output[0], skip_special_tokens=True))"
   ],
   "metadata": {
    "collapsed": false,
    "ExecuteTime": {
     "end_time": "2025-05-16T07:39:49.114366200Z",
     "start_time": "2025-05-16T07:39:15.514372600Z"
    }
   },
   "id": "c289f60e5fca871e"
  },
  {
   "cell_type": "markdown",
   "source": [
    "# Poem 3\n",
    "\n",
    "From fairest creatures we desire increase, \n",
    "our best of love we hold low\n",
    "For those to cherish are who we turn away,\n",
    "It's those of us who will be destroyed, \n",
    "those on the margin who turn to none for strength,\n",
    "Their tears meet your sorrows, \n",
    "We wish for comfort, \n",
    "where we hope they may not cease\n",
    "This is my best:Now a thousand tears of mine love me and I will do as I should,\n",
    "For nothing can tear what I shall love or how I shall love,\n",
    "And that as I grow over-bearing,\n",
    "The sorrows of others remain the mine\n",
    "And still I long upon tears when I die\n",
    "Now I wish I might become nothing but a light;\n",
    "And even unto this matter it may I ask \n",
    "Of my heart what shall go in My heart."
   ],
   "metadata": {
    "collapsed": false
   },
   "id": "e714bdf012797bf4"
  },
  {
   "cell_type": "code",
   "execution_count": 23,
   "outputs": [
    {
     "name": "stderr",
     "output_type": "stream",
     "text": [
      "The attention mask and the pad token id were not set. As a consequence, you may observe unexpected behavior. Please pass your input's `attention_mask` to obtain reliable results.\n",
      "Setting `pad_token_id` to `eos_token_id`:50256 for open-end generation.\n"
     ]
    },
    {
     "name": "stdout",
     "output_type": "stream",
     "text": [
      "Continua sa scrii poezia:Am crescut? Suntem oameni maturi? si est vero tambi con segendo fonorei sionata, scelerare se spia, si spiessara i daturi e per dicce piso ca primino. (If so on this day, the lady sings. And vermo un a nuva suo ne scarias vivarei, com o non volante mierzo, a con tanto pozzii. I spilt wine by the palm for dinner, vermo non nocca togiete, por tuando com o tuado forgirare i da dia a l'o morosa).\n",
      "As a whole, I think, you are fine. No big fuss. You look as comfortable now as before, as it had been when I first did this job.\n",
      "Viva alimento que no se car di sejorificate prezi tuato quessà di oroboros quando l'il di vieni, et con las sianco toto dejurete di gio se rieni l'écorado. Paras pezzo spela, vero di santico voglio tolentil, a l'ispera o la comunicación par mi vero lelena toute o los sarmientos. Le siempre es mi nuestro spedalia do la lucha per il se sella gente. (With my hands). L'en la quella nueva sei es questanza piudo esta partido. Uch ho. Per si tobiendo (with kisses)? Mi fujo y no es cuolo mi, do si do sponas pábecas me gusto. Todos, quos nietas o que viuto lada o do una bucción bicando dia n'apperce tiendo, alcada do spalivo per sine de la voza la componacion de ciudad del lavororei.\n",
      "Ah, my children. And where it would have been just a little while longer than they got in in the first place (from her, where there was only another person next door), he would have\n"
     ]
    }
   ],
   "source": [
    "verse = ('Continua sa scrii poezia:'\n",
    "         'Am crescut? Suntem oameni maturi?')\n",
    "input_ids = tokenizer.encode(verse, return_tensors=\"pt\")\n",
    "output = model.generate(\n",
    "    input_ids,\n",
    "    max_length=500,\n",
    "    temperature=1.3,  \n",
    "    top_k=80,         \n",
    "    top_p=1.1,         \n",
    "    do_sample=True,   \n",
    "    num_return_sequences=1\n",
    ")\n",
    "print(tokenizer.decode(output[0], skip_special_tokens=True))"
   ],
   "metadata": {
    "collapsed": false,
    "ExecuteTime": {
     "end_time": "2025-05-16T07:43:35.855764600Z",
     "start_time": "2025-05-16T07:43:01.478126400Z"
    }
   },
   "id": "d6a906474999fa91"
  },
  {
   "cell_type": "markdown",
   "source": [
    "# Poem 4\n",
    "\n",
    "Am crescut? Suntem oameni maturi? \n",
    "si est vero tambi con segendo fonorei sionata, \n",
    "scelerare se spia, si spiessara i daturi e per dicce piso ca primino. \n",
    "(If so on this day, the lady sings. \n",
    "And vermo un a nuva suo ne scarias vivarei, \n",
    "com o non volante mierzo, a con tanto pozzii. \n",
    "I spilt wine by the palm for dinner, \n",
    "vermo non nocca togiete, \n",
    "por tuando com o tuado forgirare i da dia a l'o morosa).\n",
    "As a whole, I think, you are fine. \n",
    "No big fuss. You look as comfortable now as before, \n",
    "as it had been when I first did this job.\n",
    "Viva alimento que no se car di sejorificate prezi tuato quessà di oroboros quando l'il di vieni, \n",
    "et con las sianco toto dejurete di gio se rieni l'écorado. \n",
    "Paras pezzo spela, vero di santico voglio tolentil, \n",
    "a l'ispera o la comunicación par mi vero lelena toute o los sarmientos."
   ],
   "metadata": {
    "collapsed": false
   },
   "id": "edd018a5a2d3ea4"
  }
 ],
 "metadata": {
  "kernelspec": {
   "display_name": "Python 3",
   "language": "python",
   "name": "python3"
  },
  "language_info": {
   "codemirror_mode": {
    "name": "ipython",
    "version": 2
   },
   "file_extension": ".py",
   "mimetype": "text/x-python",
   "name": "python",
   "nbconvert_exporter": "python",
   "pygments_lexer": "ipython2",
   "version": "2.7.6"
  }
 },
 "nbformat": 4,
 "nbformat_minor": 5
}
